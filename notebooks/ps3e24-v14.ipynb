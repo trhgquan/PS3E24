{
 "cells": [
  {
   "cell_type": "markdown",
   "id": "df03cbd8",
   "metadata": {
    "papermill": {
     "duration": 0.016362,
     "end_time": "2023-11-03T03:37:32.053259",
     "exception": false,
     "start_time": "2023-11-03T03:37:32.036897",
     "status": "completed"
    },
    "tags": []
   },
   "source": [
    "## [GitHub](https://github.com/trhgquan/PS3E24)"
   ]
  },
  {
   "cell_type": "code",
   "execution_count": 1,
   "id": "c6a80b1a",
   "metadata": {
    "_cell_guid": "b1076dfc-b9ad-4769-8c92-a6c4dae69d19",
    "_uuid": "8f2839f25d086af736a60e9eeb907d3b93b6e0e5",
    "execution": {
     "iopub.execute_input": "2023-11-03T03:37:32.085808Z",
     "iopub.status.busy": "2023-11-03T03:37:32.085412Z",
     "iopub.status.idle": "2023-11-03T03:37:32.399230Z",
     "shell.execute_reply": "2023-11-03T03:37:32.397756Z"
    },
    "papermill": {
     "duration": 0.332854,
     "end_time": "2023-11-03T03:37:32.401686",
     "exception": false,
     "start_time": "2023-11-03T03:37:32.068832",
     "status": "completed"
    },
    "tags": []
   },
   "outputs": [
    {
     "name": "stdout",
     "output_type": "stream",
     "text": [
      "/kaggle/input/playground-series-s3e24/sample_submission.csv\n",
      "/kaggle/input/playground-series-s3e24/train.csv\n",
      "/kaggle/input/playground-series-s3e24/test.csv\n"
     ]
    }
   ],
   "source": [
    "# This Python 3 environment comes with many helpful analytics libraries installed\n",
    "# It is defined by the kaggle/python Docker image: https://github.com/kaggle/docker-python\n",
    "# For example, here's several helpful packages to load\n",
    "\n",
    "import numpy as np # linear algebra\n",
    "import pandas as pd # data processing, CSV file I/O (e.g. pd.read_csv)\n",
    "\n",
    "# Input data files are available in the read-only \"../input/\" directory\n",
    "# For example, running this (by clicking run or pressing Shift+Enter) will list all files under the input directory\n",
    "\n",
    "import os\n",
    "for dirname, _, filenames in os.walk('/kaggle/input'):\n",
    "    for filename in filenames:\n",
    "        print(os.path.join(dirname, filename))\n",
    "\n",
    "# You can write up to 20GB to the current directory (/kaggle/working/) that gets preserved as output when you create a version using \"Save & Run All\" \n",
    "# You can also write temporary files to /kaggle/temp/, but they won't be saved outside of the current session"
   ]
  },
  {
   "cell_type": "code",
   "execution_count": 2,
   "id": "2c03399c",
   "metadata": {
    "execution": {
     "iopub.execute_input": "2023-11-03T03:37:32.435787Z",
     "iopub.status.busy": "2023-11-03T03:37:32.435275Z",
     "iopub.status.idle": "2023-11-03T03:37:35.494789Z",
     "shell.execute_reply": "2023-11-03T03:37:35.493670Z"
    },
    "papermill": {
     "duration": 3.079594,
     "end_time": "2023-11-03T03:37:35.497303",
     "exception": false,
     "start_time": "2023-11-03T03:37:32.417709",
     "status": "completed"
    },
    "tags": []
   },
   "outputs": [],
   "source": [
    "import matplotlib.pyplot as plt\n",
    "\n",
    "from xgboost import XGBClassifier\n",
    "from catboost import CatBoostClassifier\n",
    "import lightgbm as lgb\n",
    "\n",
    "from sklearn.ensemble import GradientBoostingClassifier, ExtraTreesClassifier, VotingClassifier, StackingClassifier\n",
    "from sklearn.inspection import permutation_importance\n",
    "from sklearn.linear_model import LogisticRegression\n",
    "from sklearn.svm import LinearSVC\n",
    "from sklearn.model_selection import KFold, cross_validate, GridSearchCV, learning_curve\n",
    "from sklearn.metrics import make_scorer, roc_auc_score, log_loss\n",
    "from sklearn.pipeline import Pipeline\n",
    "from sklearn.preprocessing import FunctionTransformer, PolynomialFeatures, StandardScaler, RobustScaler"
   ]
  },
  {
   "cell_type": "markdown",
   "id": "1f3bb36b",
   "metadata": {
    "papermill": {
     "duration": 0.015021,
     "end_time": "2023-11-03T03:37:35.527880",
     "exception": false,
     "start_time": "2023-11-03T03:37:35.512859",
     "status": "completed"
    },
    "tags": []
   },
   "source": [
    "# Data import and a little insight"
   ]
  },
  {
   "cell_type": "code",
   "execution_count": 3,
   "id": "c320bf98",
   "metadata": {
    "execution": {
     "iopub.execute_input": "2023-11-03T03:37:35.560196Z",
     "iopub.status.busy": "2023-11-03T03:37:35.559847Z",
     "iopub.status.idle": "2023-11-03T03:37:36.074517Z",
     "shell.execute_reply": "2023-11-03T03:37:36.073385Z"
    },
    "papermill": {
     "duration": 0.534285,
     "end_time": "2023-11-03T03:37:36.077396",
     "exception": false,
     "start_time": "2023-11-03T03:37:35.543111",
     "status": "completed"
    },
    "tags": []
   },
   "outputs": [],
   "source": [
    "train_df = pd.read_csv(\"/kaggle/input/playground-series-s3e24/train.csv\")\n",
    "test_df = pd.read_csv(\"/kaggle/input/playground-series-s3e24/test.csv\")"
   ]
  },
  {
   "cell_type": "code",
   "execution_count": 4,
   "id": "437f7903",
   "metadata": {
    "execution": {
     "iopub.execute_input": "2023-11-03T03:37:36.109869Z",
     "iopub.status.busy": "2023-11-03T03:37:36.109491Z",
     "iopub.status.idle": "2023-11-03T03:37:36.120198Z",
     "shell.execute_reply": "2023-11-03T03:37:36.118936Z"
    },
    "papermill": {
     "duration": 0.02945,
     "end_time": "2023-11-03T03:37:36.122472",
     "exception": false,
     "start_time": "2023-11-03T03:37:36.093022",
     "status": "completed"
    },
    "tags": []
   },
   "outputs": [],
   "source": [
    "test_id = test_df[\"id\"]"
   ]
  },
  {
   "cell_type": "code",
   "execution_count": 5,
   "id": "7a6e860c",
   "metadata": {
    "execution": {
     "iopub.execute_input": "2023-11-03T03:37:36.154465Z",
     "iopub.status.busy": "2023-11-03T03:37:36.154146Z",
     "iopub.status.idle": "2023-11-03T03:37:36.203906Z",
     "shell.execute_reply": "2023-11-03T03:37:36.202352Z"
    },
    "papermill": {
     "duration": 0.068063,
     "end_time": "2023-11-03T03:37:36.206193",
     "exception": false,
     "start_time": "2023-11-03T03:37:36.138130",
     "status": "completed"
    },
    "tags": []
   },
   "outputs": [
    {
     "data": {
      "text/html": [
       "<div>\n",
       "<style scoped>\n",
       "    .dataframe tbody tr th:only-of-type {\n",
       "        vertical-align: middle;\n",
       "    }\n",
       "\n",
       "    .dataframe tbody tr th {\n",
       "        vertical-align: top;\n",
       "    }\n",
       "\n",
       "    .dataframe thead th {\n",
       "        text-align: right;\n",
       "    }\n",
       "</style>\n",
       "<table border=\"1\" class=\"dataframe\">\n",
       "  <thead>\n",
       "    <tr style=\"text-align: right;\">\n",
       "      <th></th>\n",
       "      <th>id</th>\n",
       "      <th>age</th>\n",
       "      <th>height(cm)</th>\n",
       "      <th>weight(kg)</th>\n",
       "      <th>waist(cm)</th>\n",
       "      <th>eyesight(left)</th>\n",
       "      <th>eyesight(right)</th>\n",
       "      <th>hearing(left)</th>\n",
       "      <th>hearing(right)</th>\n",
       "      <th>systolic</th>\n",
       "      <th>...</th>\n",
       "      <th>HDL</th>\n",
       "      <th>LDL</th>\n",
       "      <th>hemoglobin</th>\n",
       "      <th>Urine protein</th>\n",
       "      <th>serum creatinine</th>\n",
       "      <th>AST</th>\n",
       "      <th>ALT</th>\n",
       "      <th>Gtp</th>\n",
       "      <th>dental caries</th>\n",
       "      <th>smoking</th>\n",
       "    </tr>\n",
       "  </thead>\n",
       "  <tbody>\n",
       "    <tr>\n",
       "      <th>0</th>\n",
       "      <td>0</td>\n",
       "      <td>55</td>\n",
       "      <td>165</td>\n",
       "      <td>60</td>\n",
       "      <td>81.0</td>\n",
       "      <td>0.5</td>\n",
       "      <td>0.6</td>\n",
       "      <td>1</td>\n",
       "      <td>1</td>\n",
       "      <td>135</td>\n",
       "      <td>...</td>\n",
       "      <td>40</td>\n",
       "      <td>75</td>\n",
       "      <td>16.5</td>\n",
       "      <td>1</td>\n",
       "      <td>1.0</td>\n",
       "      <td>22</td>\n",
       "      <td>25</td>\n",
       "      <td>27</td>\n",
       "      <td>0</td>\n",
       "      <td>1</td>\n",
       "    </tr>\n",
       "    <tr>\n",
       "      <th>1</th>\n",
       "      <td>1</td>\n",
       "      <td>70</td>\n",
       "      <td>165</td>\n",
       "      <td>65</td>\n",
       "      <td>89.0</td>\n",
       "      <td>0.6</td>\n",
       "      <td>0.7</td>\n",
       "      <td>2</td>\n",
       "      <td>2</td>\n",
       "      <td>146</td>\n",
       "      <td>...</td>\n",
       "      <td>57</td>\n",
       "      <td>126</td>\n",
       "      <td>16.2</td>\n",
       "      <td>1</td>\n",
       "      <td>1.1</td>\n",
       "      <td>27</td>\n",
       "      <td>23</td>\n",
       "      <td>37</td>\n",
       "      <td>1</td>\n",
       "      <td>0</td>\n",
       "    </tr>\n",
       "    <tr>\n",
       "      <th>2</th>\n",
       "      <td>2</td>\n",
       "      <td>20</td>\n",
       "      <td>170</td>\n",
       "      <td>75</td>\n",
       "      <td>81.0</td>\n",
       "      <td>0.4</td>\n",
       "      <td>0.5</td>\n",
       "      <td>1</td>\n",
       "      <td>1</td>\n",
       "      <td>118</td>\n",
       "      <td>...</td>\n",
       "      <td>45</td>\n",
       "      <td>93</td>\n",
       "      <td>17.4</td>\n",
       "      <td>1</td>\n",
       "      <td>0.8</td>\n",
       "      <td>27</td>\n",
       "      <td>31</td>\n",
       "      <td>53</td>\n",
       "      <td>0</td>\n",
       "      <td>1</td>\n",
       "    </tr>\n",
       "    <tr>\n",
       "      <th>3</th>\n",
       "      <td>3</td>\n",
       "      <td>35</td>\n",
       "      <td>180</td>\n",
       "      <td>95</td>\n",
       "      <td>105.0</td>\n",
       "      <td>1.5</td>\n",
       "      <td>1.2</td>\n",
       "      <td>1</td>\n",
       "      <td>1</td>\n",
       "      <td>131</td>\n",
       "      <td>...</td>\n",
       "      <td>38</td>\n",
       "      <td>102</td>\n",
       "      <td>15.9</td>\n",
       "      <td>1</td>\n",
       "      <td>1.0</td>\n",
       "      <td>20</td>\n",
       "      <td>27</td>\n",
       "      <td>30</td>\n",
       "      <td>1</td>\n",
       "      <td>0</td>\n",
       "    </tr>\n",
       "    <tr>\n",
       "      <th>4</th>\n",
       "      <td>4</td>\n",
       "      <td>30</td>\n",
       "      <td>165</td>\n",
       "      <td>60</td>\n",
       "      <td>80.5</td>\n",
       "      <td>1.5</td>\n",
       "      <td>1.0</td>\n",
       "      <td>1</td>\n",
       "      <td>1</td>\n",
       "      <td>121</td>\n",
       "      <td>...</td>\n",
       "      <td>44</td>\n",
       "      <td>93</td>\n",
       "      <td>15.4</td>\n",
       "      <td>1</td>\n",
       "      <td>0.8</td>\n",
       "      <td>19</td>\n",
       "      <td>13</td>\n",
       "      <td>17</td>\n",
       "      <td>0</td>\n",
       "      <td>1</td>\n",
       "    </tr>\n",
       "    <tr>\n",
       "      <th>...</th>\n",
       "      <td>...</td>\n",
       "      <td>...</td>\n",
       "      <td>...</td>\n",
       "      <td>...</td>\n",
       "      <td>...</td>\n",
       "      <td>...</td>\n",
       "      <td>...</td>\n",
       "      <td>...</td>\n",
       "      <td>...</td>\n",
       "      <td>...</td>\n",
       "      <td>...</td>\n",
       "      <td>...</td>\n",
       "      <td>...</td>\n",
       "      <td>...</td>\n",
       "      <td>...</td>\n",
       "      <td>...</td>\n",
       "      <td>...</td>\n",
       "      <td>...</td>\n",
       "      <td>...</td>\n",
       "      <td>...</td>\n",
       "      <td>...</td>\n",
       "    </tr>\n",
       "    <tr>\n",
       "      <th>159251</th>\n",
       "      <td>159251</td>\n",
       "      <td>40</td>\n",
       "      <td>155</td>\n",
       "      <td>45</td>\n",
       "      <td>69.0</td>\n",
       "      <td>1.5</td>\n",
       "      <td>2.0</td>\n",
       "      <td>1</td>\n",
       "      <td>1</td>\n",
       "      <td>127</td>\n",
       "      <td>...</td>\n",
       "      <td>72</td>\n",
       "      <td>159</td>\n",
       "      <td>14.5</td>\n",
       "      <td>1</td>\n",
       "      <td>0.8</td>\n",
       "      <td>25</td>\n",
       "      <td>26</td>\n",
       "      <td>13</td>\n",
       "      <td>0</td>\n",
       "      <td>0</td>\n",
       "    </tr>\n",
       "    <tr>\n",
       "      <th>159252</th>\n",
       "      <td>159252</td>\n",
       "      <td>50</td>\n",
       "      <td>155</td>\n",
       "      <td>75</td>\n",
       "      <td>82.0</td>\n",
       "      <td>1.0</td>\n",
       "      <td>1.0</td>\n",
       "      <td>1</td>\n",
       "      <td>1</td>\n",
       "      <td>120</td>\n",
       "      <td>...</td>\n",
       "      <td>64</td>\n",
       "      <td>108</td>\n",
       "      <td>14.5</td>\n",
       "      <td>1</td>\n",
       "      <td>0.6</td>\n",
       "      <td>21</td>\n",
       "      <td>20</td>\n",
       "      <td>18</td>\n",
       "      <td>0</td>\n",
       "      <td>0</td>\n",
       "    </tr>\n",
       "    <tr>\n",
       "      <th>159253</th>\n",
       "      <td>159253</td>\n",
       "      <td>40</td>\n",
       "      <td>160</td>\n",
       "      <td>50</td>\n",
       "      <td>66.0</td>\n",
       "      <td>1.5</td>\n",
       "      <td>1.0</td>\n",
       "      <td>1</td>\n",
       "      <td>1</td>\n",
       "      <td>114</td>\n",
       "      <td>...</td>\n",
       "      <td>87</td>\n",
       "      <td>93</td>\n",
       "      <td>10.9</td>\n",
       "      <td>1</td>\n",
       "      <td>0.6</td>\n",
       "      <td>15</td>\n",
       "      <td>9</td>\n",
       "      <td>12</td>\n",
       "      <td>0</td>\n",
       "      <td>0</td>\n",
       "    </tr>\n",
       "    <tr>\n",
       "      <th>159254</th>\n",
       "      <td>159254</td>\n",
       "      <td>50</td>\n",
       "      <td>165</td>\n",
       "      <td>75</td>\n",
       "      <td>92.0</td>\n",
       "      <td>1.2</td>\n",
       "      <td>1.0</td>\n",
       "      <td>1</td>\n",
       "      <td>1</td>\n",
       "      <td>121</td>\n",
       "      <td>...</td>\n",
       "      <td>55</td>\n",
       "      <td>80</td>\n",
       "      <td>14.4</td>\n",
       "      <td>1</td>\n",
       "      <td>1.1</td>\n",
       "      <td>22</td>\n",
       "      <td>17</td>\n",
       "      <td>37</td>\n",
       "      <td>0</td>\n",
       "      <td>1</td>\n",
       "    </tr>\n",
       "    <tr>\n",
       "      <th>159255</th>\n",
       "      <td>159255</td>\n",
       "      <td>40</td>\n",
       "      <td>145</td>\n",
       "      <td>45</td>\n",
       "      <td>76.4</td>\n",
       "      <td>1.0</td>\n",
       "      <td>1.2</td>\n",
       "      <td>1</td>\n",
       "      <td>1</td>\n",
       "      <td>125</td>\n",
       "      <td>...</td>\n",
       "      <td>87</td>\n",
       "      <td>81</td>\n",
       "      <td>14.0</td>\n",
       "      <td>1</td>\n",
       "      <td>0.8</td>\n",
       "      <td>21</td>\n",
       "      <td>16</td>\n",
       "      <td>17</td>\n",
       "      <td>0</td>\n",
       "      <td>0</td>\n",
       "    </tr>\n",
       "  </tbody>\n",
       "</table>\n",
       "<p>159256 rows × 24 columns</p>\n",
       "</div>"
      ],
      "text/plain": [
       "            id  age  height(cm)  weight(kg)  waist(cm)  eyesight(left)  \\\n",
       "0            0   55         165          60       81.0             0.5   \n",
       "1            1   70         165          65       89.0             0.6   \n",
       "2            2   20         170          75       81.0             0.4   \n",
       "3            3   35         180          95      105.0             1.5   \n",
       "4            4   30         165          60       80.5             1.5   \n",
       "...        ...  ...         ...         ...        ...             ...   \n",
       "159251  159251   40         155          45       69.0             1.5   \n",
       "159252  159252   50         155          75       82.0             1.0   \n",
       "159253  159253   40         160          50       66.0             1.5   \n",
       "159254  159254   50         165          75       92.0             1.2   \n",
       "159255  159255   40         145          45       76.4             1.0   \n",
       "\n",
       "        eyesight(right)  hearing(left)  hearing(right)  systolic  ...  HDL  \\\n",
       "0                   0.6              1               1       135  ...   40   \n",
       "1                   0.7              2               2       146  ...   57   \n",
       "2                   0.5              1               1       118  ...   45   \n",
       "3                   1.2              1               1       131  ...   38   \n",
       "4                   1.0              1               1       121  ...   44   \n",
       "...                 ...            ...             ...       ...  ...  ...   \n",
       "159251              2.0              1               1       127  ...   72   \n",
       "159252              1.0              1               1       120  ...   64   \n",
       "159253              1.0              1               1       114  ...   87   \n",
       "159254              1.0              1               1       121  ...   55   \n",
       "159255              1.2              1               1       125  ...   87   \n",
       "\n",
       "        LDL  hemoglobin  Urine protein  serum creatinine  AST  ALT  Gtp  \\\n",
       "0        75        16.5              1               1.0   22   25   27   \n",
       "1       126        16.2              1               1.1   27   23   37   \n",
       "2        93        17.4              1               0.8   27   31   53   \n",
       "3       102        15.9              1               1.0   20   27   30   \n",
       "4        93        15.4              1               0.8   19   13   17   \n",
       "...     ...         ...            ...               ...  ...  ...  ...   \n",
       "159251  159        14.5              1               0.8   25   26   13   \n",
       "159252  108        14.5              1               0.6   21   20   18   \n",
       "159253   93        10.9              1               0.6   15    9   12   \n",
       "159254   80        14.4              1               1.1   22   17   37   \n",
       "159255   81        14.0              1               0.8   21   16   17   \n",
       "\n",
       "        dental caries  smoking  \n",
       "0                   0        1  \n",
       "1                   1        0  \n",
       "2                   0        1  \n",
       "3                   1        0  \n",
       "4                   0        1  \n",
       "...               ...      ...  \n",
       "159251              0        0  \n",
       "159252              0        0  \n",
       "159253              0        0  \n",
       "159254              0        1  \n",
       "159255              0        0  \n",
       "\n",
       "[159256 rows x 24 columns]"
      ]
     },
     "execution_count": 5,
     "metadata": {},
     "output_type": "execute_result"
    }
   ],
   "source": [
    "train_df"
   ]
  },
  {
   "cell_type": "code",
   "execution_count": 6,
   "id": "93e9f238",
   "metadata": {
    "execution": {
     "iopub.execute_input": "2023-11-03T03:37:36.298085Z",
     "iopub.status.busy": "2023-11-03T03:37:36.297694Z",
     "iopub.status.idle": "2023-11-03T03:37:36.447143Z",
     "shell.execute_reply": "2023-11-03T03:37:36.445942Z"
    },
    "papermill": {
     "duration": 0.227264,
     "end_time": "2023-11-03T03:37:36.449458",
     "exception": false,
     "start_time": "2023-11-03T03:37:36.222194",
     "status": "completed"
    },
    "tags": []
   },
   "outputs": [
    {
     "data": {
      "text/html": [
       "<div>\n",
       "<style scoped>\n",
       "    .dataframe tbody tr th:only-of-type {\n",
       "        vertical-align: middle;\n",
       "    }\n",
       "\n",
       "    .dataframe tbody tr th {\n",
       "        vertical-align: top;\n",
       "    }\n",
       "\n",
       "    .dataframe thead th {\n",
       "        text-align: right;\n",
       "    }\n",
       "</style>\n",
       "<table border=\"1\" class=\"dataframe\">\n",
       "  <thead>\n",
       "    <tr style=\"text-align: right;\">\n",
       "      <th></th>\n",
       "      <th>id</th>\n",
       "      <th>age</th>\n",
       "      <th>height(cm)</th>\n",
       "      <th>weight(kg)</th>\n",
       "      <th>waist(cm)</th>\n",
       "      <th>eyesight(left)</th>\n",
       "      <th>eyesight(right)</th>\n",
       "      <th>hearing(left)</th>\n",
       "      <th>hearing(right)</th>\n",
       "      <th>systolic</th>\n",
       "      <th>...</th>\n",
       "      <th>HDL</th>\n",
       "      <th>LDL</th>\n",
       "      <th>hemoglobin</th>\n",
       "      <th>Urine protein</th>\n",
       "      <th>serum creatinine</th>\n",
       "      <th>AST</th>\n",
       "      <th>ALT</th>\n",
       "      <th>Gtp</th>\n",
       "      <th>dental caries</th>\n",
       "      <th>smoking</th>\n",
       "    </tr>\n",
       "  </thead>\n",
       "  <tbody>\n",
       "    <tr>\n",
       "      <th>count</th>\n",
       "      <td>159256.000000</td>\n",
       "      <td>159256.000000</td>\n",
       "      <td>159256.000000</td>\n",
       "      <td>159256.000000</td>\n",
       "      <td>159256.000000</td>\n",
       "      <td>159256.000000</td>\n",
       "      <td>159256.000000</td>\n",
       "      <td>159256.000000</td>\n",
       "      <td>159256.000000</td>\n",
       "      <td>159256.000000</td>\n",
       "      <td>...</td>\n",
       "      <td>159256.000000</td>\n",
       "      <td>159256.000000</td>\n",
       "      <td>159256.000000</td>\n",
       "      <td>159256.000000</td>\n",
       "      <td>159256.000000</td>\n",
       "      <td>159256.000000</td>\n",
       "      <td>159256.000000</td>\n",
       "      <td>159256.000000</td>\n",
       "      <td>159256.000000</td>\n",
       "      <td>159256.000000</td>\n",
       "    </tr>\n",
       "    <tr>\n",
       "      <th>mean</th>\n",
       "      <td>79627.500000</td>\n",
       "      <td>44.306626</td>\n",
       "      <td>165.266929</td>\n",
       "      <td>67.143662</td>\n",
       "      <td>83.001990</td>\n",
       "      <td>1.005798</td>\n",
       "      <td>1.000989</td>\n",
       "      <td>1.023974</td>\n",
       "      <td>1.023421</td>\n",
       "      <td>122.503648</td>\n",
       "      <td>...</td>\n",
       "      <td>55.852684</td>\n",
       "      <td>114.607682</td>\n",
       "      <td>14.796965</td>\n",
       "      <td>1.074233</td>\n",
       "      <td>0.892764</td>\n",
       "      <td>25.516853</td>\n",
       "      <td>26.550296</td>\n",
       "      <td>36.216004</td>\n",
       "      <td>0.197996</td>\n",
       "      <td>0.437365</td>\n",
       "    </tr>\n",
       "    <tr>\n",
       "      <th>std</th>\n",
       "      <td>45973.391572</td>\n",
       "      <td>11.842286</td>\n",
       "      <td>8.818970</td>\n",
       "      <td>12.586198</td>\n",
       "      <td>8.957937</td>\n",
       "      <td>0.402113</td>\n",
       "      <td>0.392299</td>\n",
       "      <td>0.152969</td>\n",
       "      <td>0.151238</td>\n",
       "      <td>12.729315</td>\n",
       "      <td>...</td>\n",
       "      <td>13.964141</td>\n",
       "      <td>28.158931</td>\n",
       "      <td>1.431213</td>\n",
       "      <td>0.347856</td>\n",
       "      <td>0.179346</td>\n",
       "      <td>9.464882</td>\n",
       "      <td>17.753070</td>\n",
       "      <td>31.204643</td>\n",
       "      <td>0.398490</td>\n",
       "      <td>0.496063</td>\n",
       "    </tr>\n",
       "    <tr>\n",
       "      <th>min</th>\n",
       "      <td>0.000000</td>\n",
       "      <td>20.000000</td>\n",
       "      <td>135.000000</td>\n",
       "      <td>30.000000</td>\n",
       "      <td>51.000000</td>\n",
       "      <td>0.100000</td>\n",
       "      <td>0.100000</td>\n",
       "      <td>1.000000</td>\n",
       "      <td>1.000000</td>\n",
       "      <td>77.000000</td>\n",
       "      <td>...</td>\n",
       "      <td>9.000000</td>\n",
       "      <td>1.000000</td>\n",
       "      <td>4.900000</td>\n",
       "      <td>1.000000</td>\n",
       "      <td>0.100000</td>\n",
       "      <td>6.000000</td>\n",
       "      <td>1.000000</td>\n",
       "      <td>2.000000</td>\n",
       "      <td>0.000000</td>\n",
       "      <td>0.000000</td>\n",
       "    </tr>\n",
       "    <tr>\n",
       "      <th>25%</th>\n",
       "      <td>39813.750000</td>\n",
       "      <td>40.000000</td>\n",
       "      <td>160.000000</td>\n",
       "      <td>60.000000</td>\n",
       "      <td>77.000000</td>\n",
       "      <td>0.800000</td>\n",
       "      <td>0.800000</td>\n",
       "      <td>1.000000</td>\n",
       "      <td>1.000000</td>\n",
       "      <td>114.000000</td>\n",
       "      <td>...</td>\n",
       "      <td>45.000000</td>\n",
       "      <td>95.000000</td>\n",
       "      <td>13.800000</td>\n",
       "      <td>1.000000</td>\n",
       "      <td>0.800000</td>\n",
       "      <td>20.000000</td>\n",
       "      <td>16.000000</td>\n",
       "      <td>18.000000</td>\n",
       "      <td>0.000000</td>\n",
       "      <td>0.000000</td>\n",
       "    </tr>\n",
       "    <tr>\n",
       "      <th>50%</th>\n",
       "      <td>79627.500000</td>\n",
       "      <td>40.000000</td>\n",
       "      <td>165.000000</td>\n",
       "      <td>65.000000</td>\n",
       "      <td>83.000000</td>\n",
       "      <td>1.000000</td>\n",
       "      <td>1.000000</td>\n",
       "      <td>1.000000</td>\n",
       "      <td>1.000000</td>\n",
       "      <td>121.000000</td>\n",
       "      <td>...</td>\n",
       "      <td>54.000000</td>\n",
       "      <td>114.000000</td>\n",
       "      <td>15.000000</td>\n",
       "      <td>1.000000</td>\n",
       "      <td>0.900000</td>\n",
       "      <td>24.000000</td>\n",
       "      <td>22.000000</td>\n",
       "      <td>27.000000</td>\n",
       "      <td>0.000000</td>\n",
       "      <td>0.000000</td>\n",
       "    </tr>\n",
       "    <tr>\n",
       "      <th>75%</th>\n",
       "      <td>119441.250000</td>\n",
       "      <td>55.000000</td>\n",
       "      <td>170.000000</td>\n",
       "      <td>75.000000</td>\n",
       "      <td>89.000000</td>\n",
       "      <td>1.200000</td>\n",
       "      <td>1.200000</td>\n",
       "      <td>1.000000</td>\n",
       "      <td>1.000000</td>\n",
       "      <td>130.000000</td>\n",
       "      <td>...</td>\n",
       "      <td>64.000000</td>\n",
       "      <td>133.000000</td>\n",
       "      <td>15.800000</td>\n",
       "      <td>1.000000</td>\n",
       "      <td>1.000000</td>\n",
       "      <td>29.000000</td>\n",
       "      <td>32.000000</td>\n",
       "      <td>44.000000</td>\n",
       "      <td>0.000000</td>\n",
       "      <td>1.000000</td>\n",
       "    </tr>\n",
       "    <tr>\n",
       "      <th>max</th>\n",
       "      <td>159255.000000</td>\n",
       "      <td>85.000000</td>\n",
       "      <td>190.000000</td>\n",
       "      <td>130.000000</td>\n",
       "      <td>127.000000</td>\n",
       "      <td>9.900000</td>\n",
       "      <td>9.900000</td>\n",
       "      <td>2.000000</td>\n",
       "      <td>2.000000</td>\n",
       "      <td>213.000000</td>\n",
       "      <td>...</td>\n",
       "      <td>136.000000</td>\n",
       "      <td>1860.000000</td>\n",
       "      <td>21.000000</td>\n",
       "      <td>6.000000</td>\n",
       "      <td>9.900000</td>\n",
       "      <td>778.000000</td>\n",
       "      <td>2914.000000</td>\n",
       "      <td>999.000000</td>\n",
       "      <td>1.000000</td>\n",
       "      <td>1.000000</td>\n",
       "    </tr>\n",
       "  </tbody>\n",
       "</table>\n",
       "<p>8 rows × 24 columns</p>\n",
       "</div>"
      ],
      "text/plain": [
       "                  id            age     height(cm)     weight(kg)  \\\n",
       "count  159256.000000  159256.000000  159256.000000  159256.000000   \n",
       "mean    79627.500000      44.306626     165.266929      67.143662   \n",
       "std     45973.391572      11.842286       8.818970      12.586198   \n",
       "min         0.000000      20.000000     135.000000      30.000000   \n",
       "25%     39813.750000      40.000000     160.000000      60.000000   \n",
       "50%     79627.500000      40.000000     165.000000      65.000000   \n",
       "75%    119441.250000      55.000000     170.000000      75.000000   \n",
       "max    159255.000000      85.000000     190.000000     130.000000   \n",
       "\n",
       "           waist(cm)  eyesight(left)  eyesight(right)  hearing(left)  \\\n",
       "count  159256.000000   159256.000000    159256.000000  159256.000000   \n",
       "mean       83.001990        1.005798         1.000989       1.023974   \n",
       "std         8.957937        0.402113         0.392299       0.152969   \n",
       "min        51.000000        0.100000         0.100000       1.000000   \n",
       "25%        77.000000        0.800000         0.800000       1.000000   \n",
       "50%        83.000000        1.000000         1.000000       1.000000   \n",
       "75%        89.000000        1.200000         1.200000       1.000000   \n",
       "max       127.000000        9.900000         9.900000       2.000000   \n",
       "\n",
       "       hearing(right)       systolic  ...            HDL            LDL  \\\n",
       "count   159256.000000  159256.000000  ...  159256.000000  159256.000000   \n",
       "mean         1.023421     122.503648  ...      55.852684     114.607682   \n",
       "std          0.151238      12.729315  ...      13.964141      28.158931   \n",
       "min          1.000000      77.000000  ...       9.000000       1.000000   \n",
       "25%          1.000000     114.000000  ...      45.000000      95.000000   \n",
       "50%          1.000000     121.000000  ...      54.000000     114.000000   \n",
       "75%          1.000000     130.000000  ...      64.000000     133.000000   \n",
       "max          2.000000     213.000000  ...     136.000000    1860.000000   \n",
       "\n",
       "          hemoglobin  Urine protein  serum creatinine            AST  \\\n",
       "count  159256.000000  159256.000000     159256.000000  159256.000000   \n",
       "mean       14.796965       1.074233          0.892764      25.516853   \n",
       "std         1.431213       0.347856          0.179346       9.464882   \n",
       "min         4.900000       1.000000          0.100000       6.000000   \n",
       "25%        13.800000       1.000000          0.800000      20.000000   \n",
       "50%        15.000000       1.000000          0.900000      24.000000   \n",
       "75%        15.800000       1.000000          1.000000      29.000000   \n",
       "max        21.000000       6.000000          9.900000     778.000000   \n",
       "\n",
       "                 ALT            Gtp  dental caries        smoking  \n",
       "count  159256.000000  159256.000000  159256.000000  159256.000000  \n",
       "mean       26.550296      36.216004       0.197996       0.437365  \n",
       "std        17.753070      31.204643       0.398490       0.496063  \n",
       "min         1.000000       2.000000       0.000000       0.000000  \n",
       "25%        16.000000      18.000000       0.000000       0.000000  \n",
       "50%        22.000000      27.000000       0.000000       0.000000  \n",
       "75%        32.000000      44.000000       0.000000       1.000000  \n",
       "max      2914.000000     999.000000       1.000000       1.000000  \n",
       "\n",
       "[8 rows x 24 columns]"
      ]
     },
     "execution_count": 6,
     "metadata": {},
     "output_type": "execute_result"
    }
   ],
   "source": [
    "train_df.describe()"
   ]
  },
  {
   "cell_type": "code",
   "execution_count": 7,
   "id": "65a79c4c",
   "metadata": {
    "execution": {
     "iopub.execute_input": "2023-11-03T03:37:36.484662Z",
     "iopub.status.busy": "2023-11-03T03:37:36.484335Z",
     "iopub.status.idle": "2023-11-03T03:37:36.490830Z",
     "shell.execute_reply": "2023-11-03T03:37:36.489623Z"
    },
    "papermill": {
     "duration": 0.026371,
     "end_time": "2023-11-03T03:37:36.492574",
     "exception": false,
     "start_time": "2023-11-03T03:37:36.466203",
     "status": "completed"
    },
    "tags": []
   },
   "outputs": [
    {
     "data": {
      "text/plain": [
       "Index(['id', 'age', 'height(cm)', 'weight(kg)', 'waist(cm)', 'eyesight(left)',\n",
       "       'eyesight(right)', 'hearing(left)', 'hearing(right)', 'systolic',\n",
       "       'relaxation', 'fasting blood sugar', 'Cholesterol', 'triglyceride',\n",
       "       'HDL', 'LDL', 'hemoglobin', 'Urine protein', 'serum creatinine', 'AST',\n",
       "       'ALT', 'Gtp', 'dental caries', 'smoking'],\n",
       "      dtype='object')"
      ]
     },
     "execution_count": 7,
     "metadata": {},
     "output_type": "execute_result"
    }
   ],
   "source": [
    "train_df.columns"
   ]
  },
  {
   "cell_type": "code",
   "execution_count": 8,
   "id": "b9d1786d",
   "metadata": {
    "execution": {
     "iopub.execute_input": "2023-11-03T03:37:36.527964Z",
     "iopub.status.busy": "2023-11-03T03:37:36.527626Z",
     "iopub.status.idle": "2023-11-03T03:37:36.538648Z",
     "shell.execute_reply": "2023-11-03T03:37:36.537275Z"
    },
    "papermill": {
     "duration": 0.030768,
     "end_time": "2023-11-03T03:37:36.540659",
     "exception": false,
     "start_time": "2023-11-03T03:37:36.509891",
     "status": "completed"
    },
    "tags": []
   },
   "outputs": [
    {
     "data": {
      "text/plain": [
       "id                     0\n",
       "age                    0\n",
       "height(cm)             0\n",
       "weight(kg)             0\n",
       "waist(cm)              0\n",
       "eyesight(left)         0\n",
       "eyesight(right)        0\n",
       "hearing(left)          0\n",
       "hearing(right)         0\n",
       "systolic               0\n",
       "relaxation             0\n",
       "fasting blood sugar    0\n",
       "Cholesterol            0\n",
       "triglyceride           0\n",
       "HDL                    0\n",
       "LDL                    0\n",
       "hemoglobin             0\n",
       "Urine protein          0\n",
       "serum creatinine       0\n",
       "AST                    0\n",
       "ALT                    0\n",
       "Gtp                    0\n",
       "dental caries          0\n",
       "smoking                0\n",
       "dtype: int64"
      ]
     },
     "execution_count": 8,
     "metadata": {},
     "output_type": "execute_result"
    }
   ],
   "source": [
    "train_df.isnull().sum()"
   ]
  },
  {
   "cell_type": "markdown",
   "id": "6c3b0a01",
   "metadata": {
    "papermill": {
     "duration": 0.01692,
     "end_time": "2023-11-03T03:37:36.574167",
     "exception": false,
     "start_time": "2023-11-03T03:37:36.557247",
     "status": "completed"
    },
    "tags": []
   },
   "source": [
    "Normally (and with my personal experience), these features can tells if a person is smoking or not:\n",
    "\n",
    "- Blood creatinine + urine protein (kidney diseases)\n",
    "- Blood sugar + eyesight (diabetes)\n",
    "- Systolic BP - high BP\n",
    "\n",
    "To be sure, I'll need to run PCA on all 24 features."
   ]
  },
  {
   "cell_type": "code",
   "execution_count": 9,
   "id": "92eb40b6",
   "metadata": {
    "execution": {
     "iopub.execute_input": "2023-11-03T03:37:36.608716Z",
     "iopub.status.busy": "2023-11-03T03:37:36.608326Z",
     "iopub.status.idle": "2023-11-03T03:37:36.613865Z",
     "shell.execute_reply": "2023-11-03T03:37:36.612895Z"
    },
    "papermill": {
     "duration": 0.024963,
     "end_time": "2023-11-03T03:37:36.615639",
     "exception": false,
     "start_time": "2023-11-03T03:37:36.590676",
     "status": "completed"
    },
    "tags": []
   },
   "outputs": [],
   "source": [
    "def preprocessing(df):\n",
    "    # Calculate BMI\n",
    "#     df[\"BMI\"] = df[\"weight(kg)\"] / ((df[\"height(cm)\"] / 100) ** 2)\n",
    "    \n",
    "#     # Calculate eGFR (for kidney disease)\n",
    "#     df[\"eGFR\"] = (140 - df[\"age\"]) * df[\"weight(kg)\"] / (72 * df[\"serum creatinine\"])\n",
    "    \n",
    "    df = df.drop([\n",
    "        \"id\",\n",
    "#         \"age\",\n",
    "#         \"weight(kg)\",\n",
    "#         \"height(cm)\",\n",
    "#         \"serum creatinine\"\n",
    "    ], axis=1)\n",
    "    \n",
    "    return df"
   ]
  },
  {
   "cell_type": "code",
   "execution_count": 10,
   "id": "56cadb9f",
   "metadata": {
    "execution": {
     "iopub.execute_input": "2023-11-03T03:37:36.650865Z",
     "iopub.status.busy": "2023-11-03T03:37:36.650460Z",
     "iopub.status.idle": "2023-11-03T03:37:36.665675Z",
     "shell.execute_reply": "2023-11-03T03:37:36.664677Z"
    },
    "papermill": {
     "duration": 0.0353,
     "end_time": "2023-11-03T03:37:36.667509",
     "exception": false,
     "start_time": "2023-11-03T03:37:36.632209",
     "status": "completed"
    },
    "tags": []
   },
   "outputs": [],
   "source": [
    "train_df = preprocessing(train_df)\n",
    "test_df = preprocessing(test_df)"
   ]
  },
  {
   "cell_type": "code",
   "execution_count": 11,
   "id": "a23a00c4",
   "metadata": {
    "execution": {
     "iopub.execute_input": "2023-11-03T03:37:36.701126Z",
     "iopub.status.busy": "2023-11-03T03:37:36.700822Z",
     "iopub.status.idle": "2023-11-03T03:37:36.741099Z",
     "shell.execute_reply": "2023-11-03T03:37:36.740031Z"
    },
    "papermill": {
     "duration": 0.059234,
     "end_time": "2023-11-03T03:37:36.743033",
     "exception": false,
     "start_time": "2023-11-03T03:37:36.683799",
     "status": "completed"
    },
    "tags": []
   },
   "outputs": [
    {
     "data": {
      "text/html": [
       "<div>\n",
       "<style scoped>\n",
       "    .dataframe tbody tr th:only-of-type {\n",
       "        vertical-align: middle;\n",
       "    }\n",
       "\n",
       "    .dataframe tbody tr th {\n",
       "        vertical-align: top;\n",
       "    }\n",
       "\n",
       "    .dataframe thead th {\n",
       "        text-align: right;\n",
       "    }\n",
       "</style>\n",
       "<table border=\"1\" class=\"dataframe\">\n",
       "  <thead>\n",
       "    <tr style=\"text-align: right;\">\n",
       "      <th></th>\n",
       "      <th>age</th>\n",
       "      <th>height(cm)</th>\n",
       "      <th>weight(kg)</th>\n",
       "      <th>waist(cm)</th>\n",
       "      <th>eyesight(left)</th>\n",
       "      <th>eyesight(right)</th>\n",
       "      <th>hearing(left)</th>\n",
       "      <th>hearing(right)</th>\n",
       "      <th>systolic</th>\n",
       "      <th>relaxation</th>\n",
       "      <th>...</th>\n",
       "      <th>HDL</th>\n",
       "      <th>LDL</th>\n",
       "      <th>hemoglobin</th>\n",
       "      <th>Urine protein</th>\n",
       "      <th>serum creatinine</th>\n",
       "      <th>AST</th>\n",
       "      <th>ALT</th>\n",
       "      <th>Gtp</th>\n",
       "      <th>dental caries</th>\n",
       "      <th>smoking</th>\n",
       "    </tr>\n",
       "  </thead>\n",
       "  <tbody>\n",
       "    <tr>\n",
       "      <th>0</th>\n",
       "      <td>55</td>\n",
       "      <td>165</td>\n",
       "      <td>60</td>\n",
       "      <td>81.0</td>\n",
       "      <td>0.5</td>\n",
       "      <td>0.6</td>\n",
       "      <td>1</td>\n",
       "      <td>1</td>\n",
       "      <td>135</td>\n",
       "      <td>87</td>\n",
       "      <td>...</td>\n",
       "      <td>40</td>\n",
       "      <td>75</td>\n",
       "      <td>16.5</td>\n",
       "      <td>1</td>\n",
       "      <td>1.0</td>\n",
       "      <td>22</td>\n",
       "      <td>25</td>\n",
       "      <td>27</td>\n",
       "      <td>0</td>\n",
       "      <td>1</td>\n",
       "    </tr>\n",
       "    <tr>\n",
       "      <th>1</th>\n",
       "      <td>70</td>\n",
       "      <td>165</td>\n",
       "      <td>65</td>\n",
       "      <td>89.0</td>\n",
       "      <td>0.6</td>\n",
       "      <td>0.7</td>\n",
       "      <td>2</td>\n",
       "      <td>2</td>\n",
       "      <td>146</td>\n",
       "      <td>83</td>\n",
       "      <td>...</td>\n",
       "      <td>57</td>\n",
       "      <td>126</td>\n",
       "      <td>16.2</td>\n",
       "      <td>1</td>\n",
       "      <td>1.1</td>\n",
       "      <td>27</td>\n",
       "      <td>23</td>\n",
       "      <td>37</td>\n",
       "      <td>1</td>\n",
       "      <td>0</td>\n",
       "    </tr>\n",
       "    <tr>\n",
       "      <th>2</th>\n",
       "      <td>20</td>\n",
       "      <td>170</td>\n",
       "      <td>75</td>\n",
       "      <td>81.0</td>\n",
       "      <td>0.4</td>\n",
       "      <td>0.5</td>\n",
       "      <td>1</td>\n",
       "      <td>1</td>\n",
       "      <td>118</td>\n",
       "      <td>75</td>\n",
       "      <td>...</td>\n",
       "      <td>45</td>\n",
       "      <td>93</td>\n",
       "      <td>17.4</td>\n",
       "      <td>1</td>\n",
       "      <td>0.8</td>\n",
       "      <td>27</td>\n",
       "      <td>31</td>\n",
       "      <td>53</td>\n",
       "      <td>0</td>\n",
       "      <td>1</td>\n",
       "    </tr>\n",
       "    <tr>\n",
       "      <th>3</th>\n",
       "      <td>35</td>\n",
       "      <td>180</td>\n",
       "      <td>95</td>\n",
       "      <td>105.0</td>\n",
       "      <td>1.5</td>\n",
       "      <td>1.2</td>\n",
       "      <td>1</td>\n",
       "      <td>1</td>\n",
       "      <td>131</td>\n",
       "      <td>88</td>\n",
       "      <td>...</td>\n",
       "      <td>38</td>\n",
       "      <td>102</td>\n",
       "      <td>15.9</td>\n",
       "      <td>1</td>\n",
       "      <td>1.0</td>\n",
       "      <td>20</td>\n",
       "      <td>27</td>\n",
       "      <td>30</td>\n",
       "      <td>1</td>\n",
       "      <td>0</td>\n",
       "    </tr>\n",
       "    <tr>\n",
       "      <th>4</th>\n",
       "      <td>30</td>\n",
       "      <td>165</td>\n",
       "      <td>60</td>\n",
       "      <td>80.5</td>\n",
       "      <td>1.5</td>\n",
       "      <td>1.0</td>\n",
       "      <td>1</td>\n",
       "      <td>1</td>\n",
       "      <td>121</td>\n",
       "      <td>76</td>\n",
       "      <td>...</td>\n",
       "      <td>44</td>\n",
       "      <td>93</td>\n",
       "      <td>15.4</td>\n",
       "      <td>1</td>\n",
       "      <td>0.8</td>\n",
       "      <td>19</td>\n",
       "      <td>13</td>\n",
       "      <td>17</td>\n",
       "      <td>0</td>\n",
       "      <td>1</td>\n",
       "    </tr>\n",
       "    <tr>\n",
       "      <th>...</th>\n",
       "      <td>...</td>\n",
       "      <td>...</td>\n",
       "      <td>...</td>\n",
       "      <td>...</td>\n",
       "      <td>...</td>\n",
       "      <td>...</td>\n",
       "      <td>...</td>\n",
       "      <td>...</td>\n",
       "      <td>...</td>\n",
       "      <td>...</td>\n",
       "      <td>...</td>\n",
       "      <td>...</td>\n",
       "      <td>...</td>\n",
       "      <td>...</td>\n",
       "      <td>...</td>\n",
       "      <td>...</td>\n",
       "      <td>...</td>\n",
       "      <td>...</td>\n",
       "      <td>...</td>\n",
       "      <td>...</td>\n",
       "      <td>...</td>\n",
       "    </tr>\n",
       "    <tr>\n",
       "      <th>159251</th>\n",
       "      <td>40</td>\n",
       "      <td>155</td>\n",
       "      <td>45</td>\n",
       "      <td>69.0</td>\n",
       "      <td>1.5</td>\n",
       "      <td>2.0</td>\n",
       "      <td>1</td>\n",
       "      <td>1</td>\n",
       "      <td>127</td>\n",
       "      <td>80</td>\n",
       "      <td>...</td>\n",
       "      <td>72</td>\n",
       "      <td>159</td>\n",
       "      <td>14.5</td>\n",
       "      <td>1</td>\n",
       "      <td>0.8</td>\n",
       "      <td>25</td>\n",
       "      <td>26</td>\n",
       "      <td>13</td>\n",
       "      <td>0</td>\n",
       "      <td>0</td>\n",
       "    </tr>\n",
       "    <tr>\n",
       "      <th>159252</th>\n",
       "      <td>50</td>\n",
       "      <td>155</td>\n",
       "      <td>75</td>\n",
       "      <td>82.0</td>\n",
       "      <td>1.0</td>\n",
       "      <td>1.0</td>\n",
       "      <td>1</td>\n",
       "      <td>1</td>\n",
       "      <td>120</td>\n",
       "      <td>80</td>\n",
       "      <td>...</td>\n",
       "      <td>64</td>\n",
       "      <td>108</td>\n",
       "      <td>14.5</td>\n",
       "      <td>1</td>\n",
       "      <td>0.6</td>\n",
       "      <td>21</td>\n",
       "      <td>20</td>\n",
       "      <td>18</td>\n",
       "      <td>0</td>\n",
       "      <td>0</td>\n",
       "    </tr>\n",
       "    <tr>\n",
       "      <th>159253</th>\n",
       "      <td>40</td>\n",
       "      <td>160</td>\n",
       "      <td>50</td>\n",
       "      <td>66.0</td>\n",
       "      <td>1.5</td>\n",
       "      <td>1.0</td>\n",
       "      <td>1</td>\n",
       "      <td>1</td>\n",
       "      <td>114</td>\n",
       "      <td>70</td>\n",
       "      <td>...</td>\n",
       "      <td>87</td>\n",
       "      <td>93</td>\n",
       "      <td>10.9</td>\n",
       "      <td>1</td>\n",
       "      <td>0.6</td>\n",
       "      <td>15</td>\n",
       "      <td>9</td>\n",
       "      <td>12</td>\n",
       "      <td>0</td>\n",
       "      <td>0</td>\n",
       "    </tr>\n",
       "    <tr>\n",
       "      <th>159254</th>\n",
       "      <td>50</td>\n",
       "      <td>165</td>\n",
       "      <td>75</td>\n",
       "      <td>92.0</td>\n",
       "      <td>1.2</td>\n",
       "      <td>1.0</td>\n",
       "      <td>1</td>\n",
       "      <td>1</td>\n",
       "      <td>121</td>\n",
       "      <td>90</td>\n",
       "      <td>...</td>\n",
       "      <td>55</td>\n",
       "      <td>80</td>\n",
       "      <td>14.4</td>\n",
       "      <td>1</td>\n",
       "      <td>1.1</td>\n",
       "      <td>22</td>\n",
       "      <td>17</td>\n",
       "      <td>37</td>\n",
       "      <td>0</td>\n",
       "      <td>1</td>\n",
       "    </tr>\n",
       "    <tr>\n",
       "      <th>159255</th>\n",
       "      <td>40</td>\n",
       "      <td>145</td>\n",
       "      <td>45</td>\n",
       "      <td>76.4</td>\n",
       "      <td>1.0</td>\n",
       "      <td>1.2</td>\n",
       "      <td>1</td>\n",
       "      <td>1</td>\n",
       "      <td>125</td>\n",
       "      <td>87</td>\n",
       "      <td>...</td>\n",
       "      <td>87</td>\n",
       "      <td>81</td>\n",
       "      <td>14.0</td>\n",
       "      <td>1</td>\n",
       "      <td>0.8</td>\n",
       "      <td>21</td>\n",
       "      <td>16</td>\n",
       "      <td>17</td>\n",
       "      <td>0</td>\n",
       "      <td>0</td>\n",
       "    </tr>\n",
       "  </tbody>\n",
       "</table>\n",
       "<p>159256 rows × 23 columns</p>\n",
       "</div>"
      ],
      "text/plain": [
       "        age  height(cm)  weight(kg)  waist(cm)  eyesight(left)  \\\n",
       "0        55         165          60       81.0             0.5   \n",
       "1        70         165          65       89.0             0.6   \n",
       "2        20         170          75       81.0             0.4   \n",
       "3        35         180          95      105.0             1.5   \n",
       "4        30         165          60       80.5             1.5   \n",
       "...     ...         ...         ...        ...             ...   \n",
       "159251   40         155          45       69.0             1.5   \n",
       "159252   50         155          75       82.0             1.0   \n",
       "159253   40         160          50       66.0             1.5   \n",
       "159254   50         165          75       92.0             1.2   \n",
       "159255   40         145          45       76.4             1.0   \n",
       "\n",
       "        eyesight(right)  hearing(left)  hearing(right)  systolic  relaxation  \\\n",
       "0                   0.6              1               1       135          87   \n",
       "1                   0.7              2               2       146          83   \n",
       "2                   0.5              1               1       118          75   \n",
       "3                   1.2              1               1       131          88   \n",
       "4                   1.0              1               1       121          76   \n",
       "...                 ...            ...             ...       ...         ...   \n",
       "159251              2.0              1               1       127          80   \n",
       "159252              1.0              1               1       120          80   \n",
       "159253              1.0              1               1       114          70   \n",
       "159254              1.0              1               1       121          90   \n",
       "159255              1.2              1               1       125          87   \n",
       "\n",
       "        ...  HDL  LDL  hemoglobin  Urine protein  serum creatinine  AST  ALT  \\\n",
       "0       ...   40   75        16.5              1               1.0   22   25   \n",
       "1       ...   57  126        16.2              1               1.1   27   23   \n",
       "2       ...   45   93        17.4              1               0.8   27   31   \n",
       "3       ...   38  102        15.9              1               1.0   20   27   \n",
       "4       ...   44   93        15.4              1               0.8   19   13   \n",
       "...     ...  ...  ...         ...            ...               ...  ...  ...   \n",
       "159251  ...   72  159        14.5              1               0.8   25   26   \n",
       "159252  ...   64  108        14.5              1               0.6   21   20   \n",
       "159253  ...   87   93        10.9              1               0.6   15    9   \n",
       "159254  ...   55   80        14.4              1               1.1   22   17   \n",
       "159255  ...   87   81        14.0              1               0.8   21   16   \n",
       "\n",
       "        Gtp  dental caries  smoking  \n",
       "0        27              0        1  \n",
       "1        37              1        0  \n",
       "2        53              0        1  \n",
       "3        30              1        0  \n",
       "4        17              0        1  \n",
       "...     ...            ...      ...  \n",
       "159251   13              0        0  \n",
       "159252   18              0        0  \n",
       "159253   12              0        0  \n",
       "159254   37              0        1  \n",
       "159255   17              0        0  \n",
       "\n",
       "[159256 rows x 23 columns]"
      ]
     },
     "execution_count": 11,
     "metadata": {},
     "output_type": "execute_result"
    }
   ],
   "source": [
    "train_df"
   ]
  },
  {
   "cell_type": "code",
   "execution_count": 12,
   "id": "81565f6a",
   "metadata": {
    "execution": {
     "iopub.execute_input": "2023-11-03T03:37:36.779409Z",
     "iopub.status.busy": "2023-11-03T03:37:36.779057Z",
     "iopub.status.idle": "2023-11-03T03:37:36.784041Z",
     "shell.execute_reply": "2023-11-03T03:37:36.782798Z"
    },
    "papermill": {
     "duration": 0.026308,
     "end_time": "2023-11-03T03:37:36.786544",
     "exception": false,
     "start_time": "2023-11-03T03:37:36.760236",
     "status": "completed"
    },
    "tags": []
   },
   "outputs": [],
   "source": [
    "# train_df[\"serum creatinine\"].describe()"
   ]
  },
  {
   "cell_type": "code",
   "execution_count": 13,
   "id": "b250ea32",
   "metadata": {
    "execution": {
     "iopub.execute_input": "2023-11-03T03:37:36.822929Z",
     "iopub.status.busy": "2023-11-03T03:37:36.822573Z",
     "iopub.status.idle": "2023-11-03T03:37:36.827532Z",
     "shell.execute_reply": "2023-11-03T03:37:36.826536Z"
    },
    "papermill": {
     "duration": 0.025102,
     "end_time": "2023-11-03T03:37:36.829368",
     "exception": false,
     "start_time": "2023-11-03T03:37:36.804266",
     "status": "completed"
    },
    "tags": []
   },
   "outputs": [],
   "source": [
    "# train_df[(train_df[\"eGFR\"] > 120) & (train_df[\"smoking\"] == 1)]"
   ]
  },
  {
   "cell_type": "code",
   "execution_count": 14,
   "id": "b06a7fc6",
   "metadata": {
    "execution": {
     "iopub.execute_input": "2023-11-03T03:37:36.863583Z",
     "iopub.status.busy": "2023-11-03T03:37:36.863200Z",
     "iopub.status.idle": "2023-11-03T03:37:36.867410Z",
     "shell.execute_reply": "2023-11-03T03:37:36.866569Z"
    },
    "papermill": {
     "duration": 0.023012,
     "end_time": "2023-11-03T03:37:36.869128",
     "exception": false,
     "start_time": "2023-11-03T03:37:36.846116",
     "status": "completed"
    },
    "tags": []
   },
   "outputs": [],
   "source": [
    "# train_df[\"eGFR\"].describe()"
   ]
  },
  {
   "cell_type": "code",
   "execution_count": 15,
   "id": "d8c3abcf",
   "metadata": {
    "execution": {
     "iopub.execute_input": "2023-11-03T03:37:36.906605Z",
     "iopub.status.busy": "2023-11-03T03:37:36.905572Z",
     "iopub.status.idle": "2023-11-03T03:37:36.910572Z",
     "shell.execute_reply": "2023-11-03T03:37:36.909534Z"
    },
    "papermill": {
     "duration": 0.025304,
     "end_time": "2023-11-03T03:37:36.912261",
     "exception": false,
     "start_time": "2023-11-03T03:37:36.886957",
     "status": "completed"
    },
    "tags": []
   },
   "outputs": [],
   "source": [
    "# train_df[\"serum creatinine\"]"
   ]
  },
  {
   "cell_type": "code",
   "execution_count": 16,
   "id": "2901264d",
   "metadata": {
    "execution": {
     "iopub.execute_input": "2023-11-03T03:37:36.947669Z",
     "iopub.status.busy": "2023-11-03T03:37:36.947283Z",
     "iopub.status.idle": "2023-11-03T03:37:36.951396Z",
     "shell.execute_reply": "2023-11-03T03:37:36.950589Z"
    },
    "papermill": {
     "duration": 0.023733,
     "end_time": "2023-11-03T03:37:36.953091",
     "exception": false,
     "start_time": "2023-11-03T03:37:36.929358",
     "status": "completed"
    },
    "tags": []
   },
   "outputs": [],
   "source": [
    "# train_df[train_df[\"smoking\"] == 1].plot.scatter(x = \"Urine protein\", y = \"serum creatinine\")\n",
    "# plt.show()"
   ]
  },
  {
   "cell_type": "code",
   "execution_count": 17,
   "id": "c700f25e",
   "metadata": {
    "execution": {
     "iopub.execute_input": "2023-11-03T03:37:36.987286Z",
     "iopub.status.busy": "2023-11-03T03:37:36.986949Z",
     "iopub.status.idle": "2023-11-03T03:37:36.990920Z",
     "shell.execute_reply": "2023-11-03T03:37:36.990096Z"
    },
    "papermill": {
     "duration": 0.022899,
     "end_time": "2023-11-03T03:37:36.992594",
     "exception": false,
     "start_time": "2023-11-03T03:37:36.969695",
     "status": "completed"
    },
    "tags": []
   },
   "outputs": [],
   "source": [
    "# train_df[train_df[\"smoking\"] == 1].plot.scatter(x = \"eGFR\", y = \"BMI\")\n",
    "# plt.plot()"
   ]
  },
  {
   "cell_type": "code",
   "execution_count": 18,
   "id": "ac973d35",
   "metadata": {
    "execution": {
     "iopub.execute_input": "2023-11-03T03:37:37.026610Z",
     "iopub.status.busy": "2023-11-03T03:37:37.026234Z",
     "iopub.status.idle": "2023-11-03T03:37:37.034687Z",
     "shell.execute_reply": "2023-11-03T03:37:37.033777Z"
    },
    "papermill": {
     "duration": 0.027788,
     "end_time": "2023-11-03T03:37:37.036500",
     "exception": false,
     "start_time": "2023-11-03T03:37:37.008712",
     "status": "completed"
    },
    "tags": []
   },
   "outputs": [],
   "source": [
    "train_X = train_df.drop([\"smoking\"], axis=1)\n",
    "train_y = train_df[\"smoking\"]"
   ]
  },
  {
   "cell_type": "markdown",
   "id": "e6edab5d",
   "metadata": {
    "papermill": {
     "duration": 0.01546,
     "end_time": "2023-11-03T03:37:37.067834",
     "exception": false,
     "start_time": "2023-11-03T03:37:37.052374",
     "status": "completed"
    },
    "tags": []
   },
   "source": [
    "## Try running PCA"
   ]
  },
  {
   "cell_type": "code",
   "execution_count": 19,
   "id": "ac94d7d3",
   "metadata": {
    "execution": {
     "iopub.execute_input": "2023-11-03T03:37:37.101290Z",
     "iopub.status.busy": "2023-11-03T03:37:37.100937Z",
     "iopub.status.idle": "2023-11-03T03:37:37.149264Z",
     "shell.execute_reply": "2023-11-03T03:37:37.148190Z"
    },
    "papermill": {
     "duration": 0.068572,
     "end_time": "2023-11-03T03:37:37.152031",
     "exception": false,
     "start_time": "2023-11-03T03:37:37.083459",
     "status": "completed"
    },
    "tags": []
   },
   "outputs": [],
   "source": [
    "sc = StandardScaler()\n",
    "train_X_std = sc.fit_transform(train_X)"
   ]
  },
  {
   "cell_type": "code",
   "execution_count": 20,
   "id": "33391fcc",
   "metadata": {
    "execution": {
     "iopub.execute_input": "2023-11-03T03:37:37.187580Z",
     "iopub.status.busy": "2023-11-03T03:37:37.187254Z",
     "iopub.status.idle": "2023-11-03T03:37:37.190462Z",
     "shell.execute_reply": "2023-11-03T03:37:37.189970Z"
    },
    "papermill": {
     "duration": 0.023082,
     "end_time": "2023-11-03T03:37:37.192197",
     "exception": false,
     "start_time": "2023-11-03T03:37:37.169115",
     "status": "completed"
    },
    "tags": []
   },
   "outputs": [],
   "source": [
    "from sklearn.decomposition import PCA"
   ]
  },
  {
   "cell_type": "code",
   "execution_count": 21,
   "id": "3d235867",
   "metadata": {
    "execution": {
     "iopub.execute_input": "2023-11-03T03:37:37.226457Z",
     "iopub.status.busy": "2023-11-03T03:37:37.226087Z",
     "iopub.status.idle": "2023-11-03T03:37:37.317738Z",
     "shell.execute_reply": "2023-11-03T03:37:37.316899Z"
    },
    "papermill": {
     "duration": 0.111068,
     "end_time": "2023-11-03T03:37:37.319915",
     "exception": false,
     "start_time": "2023-11-03T03:37:37.208847",
     "status": "completed"
    },
    "tags": []
   },
   "outputs": [],
   "source": [
    "pca = PCA()\n",
    "train_X_PCA = pca.fit_transform(train_X_std)"
   ]
  },
  {
   "cell_type": "code",
   "execution_count": 22,
   "id": "5d3f7972",
   "metadata": {
    "execution": {
     "iopub.execute_input": "2023-11-03T03:37:37.369420Z",
     "iopub.status.busy": "2023-11-03T03:37:37.368337Z",
     "iopub.status.idle": "2023-11-03T03:37:37.372944Z",
     "shell.execute_reply": "2023-11-03T03:37:37.372194Z"
    },
    "papermill": {
     "duration": 0.032717,
     "end_time": "2023-11-03T03:37:37.377069",
     "exception": false,
     "start_time": "2023-11-03T03:37:37.344352",
     "status": "completed"
    },
    "tags": []
   },
   "outputs": [],
   "source": [
    "exp_var_pca = pca.explained_variance_ratio_\n",
    "cum_sum_eigenvalues = np.cumsum(exp_var_pca)"
   ]
  },
  {
   "cell_type": "code",
   "execution_count": 23,
   "id": "06966c07",
   "metadata": {
    "execution": {
     "iopub.execute_input": "2023-11-03T03:37:37.423199Z",
     "iopub.status.busy": "2023-11-03T03:37:37.422857Z",
     "iopub.status.idle": "2023-11-03T03:37:37.703310Z",
     "shell.execute_reply": "2023-11-03T03:37:37.702429Z"
    },
    "papermill": {
     "duration": 0.305942,
     "end_time": "2023-11-03T03:37:37.705393",
     "exception": false,
     "start_time": "2023-11-03T03:37:37.399451",
     "status": "completed"
    },
    "tags": []
   },
   "outputs": [
    {
     "data": {
      "image/png": "[encoded data removed]",
      "text/plain": [
       "<Figure size 1000x400 with 1 Axes>"
      ]
     },
     "metadata": {},
     "output_type": "display_data"
    }
   ],
   "source": [
    "fig = plt.figure(figsize = (10,4))\n",
    "plt.plot(np.arange(1, train_X_std.shape[1]+1),100 * cum_sum_eigenvalues, marker = 'o',\n",
    "         color = 'teal', alpha = .8)\n",
    "plt.xticks(np.arange(1, train_X_std.shape[1]+1),np.arange(1, train_X_std.shape[1]+1))\n",
    "plt.xlabel('Number of Components')\n",
    "plt.ylabel('Expained Variance %')\n",
    "plt.grid(linestyle = '--')\n",
    "\n",
    "plt.show()"
   ]
  },
  {
   "cell_type": "code",
   "execution_count": 24,
   "id": "1ab6df34",
   "metadata": {
    "execution": {
     "iopub.execute_input": "2023-11-03T03:37:37.742810Z",
     "iopub.status.busy": "2023-11-03T03:37:37.741845Z",
     "iopub.status.idle": "2023-11-03T03:37:43.364214Z",
     "shell.execute_reply": "2023-11-03T03:37:43.363019Z"
    },
    "papermill": {
     "duration": 5.643964,
     "end_time": "2023-11-03T03:37:43.366911",
     "exception": false,
     "start_time": "2023-11-03T03:37:37.722947",
     "status": "completed"
    },
    "tags": []
   },
   "outputs": [
    {
     "data": {
      "image/png": "[encoded data removed]",
      "text/plain": [
       "<Figure size 1200x1200 with 21 Axes>"
      ]
     },
     "metadata": {},
     "output_type": "display_data"
    }
   ],
   "source": [
    "_, axs = plt.subplots(7, 3, figsize=(12, 12))\n",
    "for col, ax in zip(train_X.columns, axs.ravel()):\n",
    "    if train_X[col].dtype == float:\n",
    "        ax.hist(train_X[col], bins=100, color='chocolate')\n",
    "    else: #int\n",
    "        vc = train_X[col].value_counts()\n",
    "        ax.bar(vc.index, vc, color='chocolate')\n",
    "    ax.set_xlabel(col)\n",
    "plt.tight_layout()\n",
    "plt.suptitle('Feature distributions - original', y=1.02, fontsize=20)\n",
    "plt.show()"
   ]
  },
  {
   "cell_type": "markdown",
   "id": "7d4da336",
   "metadata": {
    "papermill": {
     "duration": 0.018765,
     "end_time": "2023-11-03T03:37:43.405547",
     "exception": false,
     "start_time": "2023-11-03T03:37:43.386782",
     "status": "completed"
    },
    "tags": []
   },
   "source": [
    "So the best option is to use all? True!"
   ]
  },
  {
   "cell_type": "markdown",
   "id": "c6108eda",
   "metadata": {
    "papermill": {
     "duration": 0.018428,
     "end_time": "2023-11-03T03:37:43.443270",
     "exception": false,
     "start_time": "2023-11-03T03:37:43.424842",
     "status": "completed"
    },
    "tags": []
   },
   "source": [
    "# Model ensemble"
   ]
  },
  {
   "cell_type": "code",
   "execution_count": 25,
   "id": "eb484a0f",
   "metadata": {
    "execution": {
     "iopub.execute_input": "2023-11-03T03:37:43.481904Z",
     "iopub.status.busy": "2023-11-03T03:37:43.480994Z",
     "iopub.status.idle": "2023-11-03T03:37:43.776139Z",
     "shell.execute_reply": "2023-11-03T03:37:43.775163Z"
    },
    "papermill": {
     "duration": 0.317012,
     "end_time": "2023-11-03T03:37:43.778497",
     "exception": false,
     "start_time": "2023-11-03T03:37:43.461485",
     "status": "completed"
    },
    "tags": []
   },
   "outputs": [],
   "source": [
    "import seaborn as sns"
   ]
  },
  {
   "cell_type": "code",
   "execution_count": 26,
   "id": "57844a49",
   "metadata": {
    "execution": {
     "iopub.execute_input": "2023-11-03T03:37:43.817967Z",
     "iopub.status.busy": "2023-11-03T03:37:43.817623Z",
     "iopub.status.idle": "2023-11-03T03:37:43.825910Z",
     "shell.execute_reply": "2023-11-03T03:37:43.824780Z"
    },
    "papermill": {
     "duration": 0.030376,
     "end_time": "2023-11-03T03:37:43.827949",
     "exception": false,
     "start_time": "2023-11-03T03:37:43.797573",
     "status": "completed"
    },
    "tags": []
   },
   "outputs": [],
   "source": [
    "estimators = [\n",
    "    (\"xgb\", XGBClassifier(\n",
    "        n_estimators=100,\n",
    "        n_jobs=4,\n",
    "        random_state=42\n",
    "    )),\n",
    "#     (\"extree\", ExtraTreesClassifier(\n",
    "#         verbose=3,\n",
    "#         n_estimators=100,\n",
    "#         n_jobs=4\n",
    "#     )),\n",
    "    (\"lgb\", lgb.LGBMClassifier(\n",
    "        min_child_samples=70,\n",
    "        n_estimators=700,\n",
    "        random_state=42\n",
    "    )),\n",
    "#     (\"gb\", GradientBoostingClassifier()),\n",
    "    (\"cat\", CatBoostClassifier(\n",
    "        depth=6,\n",
    "        l2_leaf_reg=4,\n",
    "        logging_level=\"Silent\",\n",
    "        random_state=42\n",
    "    )),\n",
    "]"
   ]
  },
  {
   "cell_type": "code",
   "execution_count": 27,
   "id": "25b48ecb",
   "metadata": {
    "execution": {
     "iopub.execute_input": "2023-11-03T03:37:43.866879Z",
     "iopub.status.busy": "2023-11-03T03:37:43.866510Z",
     "iopub.status.idle": "2023-11-03T03:38:30.878578Z",
     "shell.execute_reply": "2023-11-03T03:38:30.877761Z"
    },
    "papermill": {
     "duration": 47.034207,
     "end_time": "2023-11-03T03:38:30.880816",
     "exception": false,
     "start_time": "2023-11-03T03:37:43.846609",
     "status": "completed"
    },
    "tags": []
   },
   "outputs": [
    {
     "name": "stdout",
     "output_type": "stream",
     "text": [
      "Fitting xgb\n",
      "Fitting lgb\n",
      "Fitting cat\n"
     ]
    }
   ],
   "source": [
    "pipes = {}\n",
    "\n",
    "for model in estimators:\n",
    "    print(f\"Fitting {model[0]}\")\n",
    "    \n",
    "    pipe = Pipeline(steps=[\n",
    "        (\"robust_scaler\", RobustScaler()),\n",
    "        model\n",
    "    ])\n",
    "    pipe.fit(train_X, train_y)\n",
    "    pipes[pipe.steps[1][0]] = pipe"
   ]
  },
  {
   "cell_type": "markdown",
   "id": "cc6da23d",
   "metadata": {
    "papermill": {
     "duration": 0.018162,
     "end_time": "2023-11-03T03:38:30.917627",
     "exception": false,
     "start_time": "2023-11-03T03:38:30.899465",
     "status": "completed"
    },
    "tags": []
   },
   "source": [
    "## Plotting models"
   ]
  },
  {
   "cell_type": "code",
   "execution_count": 28,
   "id": "ea14bda0",
   "metadata": {
    "execution": {
     "iopub.execute_input": "2023-11-03T03:38:30.956705Z",
     "iopub.status.busy": "2023-11-03T03:38:30.956367Z",
     "iopub.status.idle": "2023-11-03T03:38:30.960539Z",
     "shell.execute_reply": "2023-11-03T03:38:30.959672Z"
    },
    "papermill": {
     "duration": 0.02599,
     "end_time": "2023-11-03T03:38:30.962264",
     "exception": false,
     "start_time": "2023-11-03T03:38:30.936274",
     "status": "completed"
    },
    "tags": []
   },
   "outputs": [],
   "source": [
    "estimator_names = [model[0] for model in estimators]"
   ]
  },
  {
   "cell_type": "code",
   "execution_count": 29,
   "id": "f252bde6",
   "metadata": {
    "execution": {
     "iopub.execute_input": "2023-11-03T03:38:31.001295Z",
     "iopub.status.busy": "2023-11-03T03:38:31.000946Z",
     "iopub.status.idle": "2023-11-03T03:38:31.008536Z",
     "shell.execute_reply": "2023-11-03T03:38:31.007518Z"
    },
    "papermill": {
     "duration": 0.029184,
     "end_time": "2023-11-03T03:38:31.010406",
     "exception": false,
     "start_time": "2023-11-03T03:38:30.981222",
     "status": "completed"
    },
    "tags": []
   },
   "outputs": [],
   "source": [
    "def plot_estimators(estimators=estimator_names, \n",
    "                    X=train_X,\n",
    "                    y=train_y,\n",
    "                   n_splits=5,\n",
    "                   metrics=[\"auc\", \"log_loss\"]):\n",
    "    metrics = {\n",
    "        key: _metrics[key] for key in metrics\n",
    "    }\n",
    "    \n",
    "    scorer, labels = [], []\n",
    "    \n",
    "    for pipe_name in pipes.keys():\n",
    "        if pipe_name in estimators:\n",
    "            pipe = pipes[pipe_name]\n",
    "            \n",
    "            print(pipe)\n",
    "            \n",
    "            labels.append(pipe_name)\n",
    "            \n",
    "            kf = KFold(n_splits)\n",
    "            \n",
    "            model_score = cross_validate(pipe, X, y, scoring=metrics, cv=kf, n_jobs=4)\n",
    "            \n",
    "            scorer.append(model_score)\n",
    "    \n",
    "    score_lists = {}\n",
    "    \n",
    "    for metric in metrics:\n",
    "        score_lists[metric] = [score[f\"test_{metric}\"] for score in scorer]\n",
    "        \n",
    "    for i, (title, _list) in enumerate(score_lists.items()):\n",
    "        plt.figure(i)\n",
    "        plot = sns.boxplot(data=_list).set_xticklabels(labels, rotation=45)\n",
    "        plt.title(title)"
   ]
  },
  {
   "cell_type": "code",
   "execution_count": 30,
   "id": "b780d88a",
   "metadata": {
    "execution": {
     "iopub.execute_input": "2023-11-03T03:38:31.049942Z",
     "iopub.status.busy": "2023-11-03T03:38:31.048901Z",
     "iopub.status.idle": "2023-11-03T03:38:31.054621Z",
     "shell.execute_reply": "2023-11-03T03:38:31.053451Z"
    },
    "papermill": {
     "duration": 0.027938,
     "end_time": "2023-11-03T03:38:31.057083",
     "exception": false,
     "start_time": "2023-11-03T03:38:31.029145",
     "status": "completed"
    },
    "tags": []
   },
   "outputs": [],
   "source": [
    "metrics = {\n",
    "    \"auc\": make_scorer(roc_auc_score, needs_proba=True),\n",
    "    \"log_loss\": make_scorer(log_loss)\n",
    "}\n",
    "\n",
    "_metrics = {\n",
    "    \"auc\": make_scorer(roc_auc_score, needs_proba=True),\n",
    "    \"log_loss\": make_scorer(log_loss)\n",
    "}"
   ]
  },
  {
   "cell_type": "code",
   "execution_count": 31,
   "id": "18d1143c",
   "metadata": {
    "execution": {
     "iopub.execute_input": "2023-11-03T03:38:31.097646Z",
     "iopub.status.busy": "2023-11-03T03:38:31.097304Z",
     "iopub.status.idle": "2023-11-03T03:46:14.532122Z",
     "shell.execute_reply": "2023-11-03T03:46:14.530990Z"
    },
    "papermill": {
     "duration": 463.457306,
     "end_time": "2023-11-03T03:46:14.534001",
     "exception": false,
     "start_time": "2023-11-03T03:38:31.076695",
     "status": "completed"
    },
    "tags": []
   },
   "outputs": [
    {
     "name": "stdout",
     "output_type": "stream",
     "text": [
      "Pipeline(steps=[('robust_scaler', RobustScaler()),\n",
      "                ('xgb',\n",
      "                 XGBClassifier(base_score=None, booster=None, callbacks=None,\n",
      "                               colsample_bylevel=None, colsample_bynode=None,\n",
      "                               colsample_bytree=None,\n",
      "                               early_stopping_rounds=None,\n",
      "                               enable_categorical=False, eval_metric=None,\n",
      "                               feature_types=None, gamma=None, gpu_id=None,\n",
      "                               grow_policy=None, importance_type=None,\n",
      "                               interaction_constraints=None, learning_rate=None,\n",
      "                               max_bin=None, max_cat_threshold=None,\n",
      "                               max_cat_to_onehot=None, max_delta_step=None,\n",
      "                               max_depth=None, max_leaves=None,\n",
      "                               min_child_weight=None, missing=nan,\n",
      "                               monotone_constraints=None, n_estimators=100,\n",
      "                               n_jobs=4, num_parallel_tree=None, predictor=None,\n",
      "                               random_state=42, ...))])\n",
      "Pipeline(steps=[('robust_scaler', RobustScaler()),\n",
      "                ('lgb',\n",
      "                 LGBMClassifier(min_child_samples=70, n_estimators=700,\n",
      "                                random_state=42))])\n",
      "Pipeline(steps=[('robust_scaler', RobustScaler()),\n",
      "                ('cat',\n",
      "                 <catboost.core.CatBoostClassifier object at 0x7cbce606faf0>)])\n"
     ]
    },
    {
     "name": "stderr",
     "output_type": "stream",
     "text": [
      "TBB Warning: The number of workers is currently limited to 0. The request for 3 workers is ignored. Further requests for more workers will be silently ignored until the limit changes.\n",
      "\n",
      "TBB Warning: The number of workers is currently limited to 0. The request for 3 workers is ignored. Further requests for more workers will be silently ignored until the limit changes.\n",
      "\n",
      "TBB Warning: The number of workers is currently limited to 0. The request for 3 workers is ignored. Further requests for more workers will be silently ignored until the limit changes.\n",
      "\n",
      "TBB Warning: The number of workers is currently limited to 0. The request for 3 workers is ignored. Further requests for more workers will be silently ignored until the limit changes.\n",
      "\n"
     ]
    },
    {
     "data": {
      "image/png": "[encoded data removed]",
      "text/plain": [
       "<Figure size 640x480 with 1 Axes>"
      ]
     },
     "metadata": {},
     "output_type": "display_data"
    },
    {
     "data": {
      "image/png": "[encoded data removed]",
      "text/plain": [
       "<Figure size 640x480 with 1 Axes>"
      ]
     },
     "metadata": {},
     "output_type": "display_data"
    }
   ],
   "source": [
    "plot_estimators()"
   ]
  },
  {
   "cell_type": "code",
   "execution_count": 32,
   "id": "131e7a5f",
   "metadata": {
    "execution": {
     "iopub.execute_input": "2023-11-03T03:46:14.573997Z",
     "iopub.status.busy": "2023-11-03T03:46:14.573579Z",
     "iopub.status.idle": "2023-11-03T03:46:14.584740Z",
     "shell.execute_reply": "2023-11-03T03:46:14.583769Z"
    },
    "papermill": {
     "duration": 0.033212,
     "end_time": "2023-11-03T03:46:14.586823",
     "exception": false,
     "start_time": "2023-11-03T03:46:14.553611",
     "status": "completed"
    },
    "tags": []
   },
   "outputs": [],
   "source": [
    "def tune_param(model, \n",
    "               param_grid, \n",
    "               refit=\"auc\", \n",
    "               chart=None, \n",
    "               X=train_X, \n",
    "               y=train_y, cv=5):\n",
    "    param_grid = {\n",
    "        f\"{model}__{key}\" : param_grid[key]\n",
    "        for key in param_grid.keys()\n",
    "    }\n",
    "    \n",
    "    grid_cv = GridSearchCV(\n",
    "        pipes[model],\n",
    "        param_grid,\n",
    "        scoring=metrics,\n",
    "        refit=refit,\n",
    "        return_train_score=True,\n",
    "        cv=cv,\n",
    "        n_jobs=4,\n",
    "        verbose=3\n",
    "    )\n",
    "    \n",
    "    grid_cv.fit(X, y)\n",
    "    \n",
    "    print(f\"Best score: { grid_cv.best_score_ }\")\n",
    "    print(f\"Best params: { grid_cv.best_params_ }\")\n",
    "    \n",
    "    results = pd.DataFrame(grid_cv.cv_results_)\n",
    "    \n",
    "    if \"line\" in chart:\n",
    "        for i, param in enumerate(param_grid.keys()):\n",
    "            graph_data = results[[\n",
    "                f\"param_{param}\",\n",
    "                f\"mean_test_{refit}\",\n",
    "                f\"mean_train_{refit}\"\n",
    "            ]]\n",
    "            \n",
    "            graph_data = graph_data.rename(columns = {\n",
    "                f\"mean_test_{refit}\" : \"test\",\n",
    "                f\"mean_train_{refit}\" : \"train\",\n",
    "            })\n",
    "            \n",
    "            graph_data = graph_data.melt(f\"param_{param}\", var_name=\"type\", value_name=refit)\n",
    "            plt.figure(i)\n",
    "            plot = sns.lineplot(x=f\"param_{param}\", y=refit, hue=\"type\", data=graph_data)\n",
    "    \n",
    "    if \"heatmap\" in chart:\n",
    "        param1 = list(param_grid.keys())[0]\n",
    "        param2 = list(param_grid.keys())[1]\n",
    "        \n",
    "        graph_data = results[[\n",
    "            f\"param_{param1}\",\n",
    "            f\"param_{param2}\",\n",
    "            f\"mean_test_{refit}\"\n",
    "        ]]\n",
    "        \n",
    "        graph_data = graph_data.pivot(index=f\"param_{param1}\", \n",
    "                                      columns=f\"param_{param2}\", \n",
    "                                     values=f\"mean_test_{refit}\")\n",
    "        \n",
    "        sns.heatmap(graph_data, annot=True, xticklabels=True, yticklabels=True).set(\n",
    "            xlabel=param2,\n",
    "            ylabel=param1\n",
    "        )"
   ]
  },
  {
   "cell_type": "markdown",
   "id": "41dec7c6",
   "metadata": {
    "papermill": {
     "duration": 0.018439,
     "end_time": "2023-11-03T03:46:14.625716",
     "exception": false,
     "start_time": "2023-11-03T03:46:14.607277",
     "status": "completed"
    },
    "tags": []
   },
   "source": [
    "## Tuning model parameters"
   ]
  },
  {
   "cell_type": "markdown",
   "id": "184abb33",
   "metadata": {
    "papermill": {
     "duration": 0.019546,
     "end_time": "2023-11-03T03:46:14.665445",
     "exception": false,
     "start_time": "2023-11-03T03:46:14.645899",
     "status": "completed"
    },
    "tags": []
   },
   "source": [
    "### Tuning CatBoostingClassifier"
   ]
  },
  {
   "cell_type": "code",
   "execution_count": 33,
   "id": "d9ef82ad",
   "metadata": {
    "execution": {
     "iopub.execute_input": "2023-11-03T03:46:14.707890Z",
     "iopub.status.busy": "2023-11-03T03:46:14.707539Z",
     "iopub.status.idle": "2023-11-03T03:46:14.711039Z",
     "shell.execute_reply": "2023-11-03T03:46:14.710150Z"
    },
    "papermill": {
     "duration": 0.026878,
     "end_time": "2023-11-03T03:46:14.712948",
     "exception": false,
     "start_time": "2023-11-03T03:46:14.686070",
     "status": "completed"
    },
    "tags": []
   },
   "outputs": [],
   "source": [
    "# param_grid = {\n",
    "#     'depth': [i for i in range(4, 11)],\n",
    "# }\n",
    "# tune_param('cat', param_grid, chart=\"line\")"
   ]
  },
  {
   "cell_type": "code",
   "execution_count": 34,
   "id": "26e09b1a",
   "metadata": {
    "execution": {
     "iopub.execute_input": "2023-11-03T03:46:14.755152Z",
     "iopub.status.busy": "2023-11-03T03:46:14.754574Z",
     "iopub.status.idle": "2023-11-03T03:46:14.758846Z",
     "shell.execute_reply": "2023-11-03T03:46:14.757791Z"
    },
    "papermill": {
     "duration": 0.027735,
     "end_time": "2023-11-03T03:46:14.760974",
     "exception": false,
     "start_time": "2023-11-03T03:46:14.733239",
     "status": "completed"
    },
    "tags": []
   },
   "outputs": [],
   "source": [
    "# pipes[\"cat\"].set_params(**{\n",
    "#     \"cat__depth\": 6,\n",
    "# })"
   ]
  },
  {
   "cell_type": "code",
   "execution_count": 35,
   "id": "af9b64d3",
   "metadata": {
    "execution": {
     "iopub.execute_input": "2023-11-03T03:46:14.802400Z",
     "iopub.status.busy": "2023-11-03T03:46:14.802076Z",
     "iopub.status.idle": "2023-11-03T03:46:14.806175Z",
     "shell.execute_reply": "2023-11-03T03:46:14.804841Z"
    },
    "papermill": {
     "duration": 0.027429,
     "end_time": "2023-11-03T03:46:14.808136",
     "exception": false,
     "start_time": "2023-11-03T03:46:14.780707",
     "status": "completed"
    },
    "tags": []
   },
   "outputs": [],
   "source": [
    "# param_grid = {\n",
    "#     'l2_leaf_reg': [i for i in range(2, 11, 1)],\n",
    "# }\n",
    "# tune_param('cat', param_grid, chart=\"line\")"
   ]
  },
  {
   "cell_type": "code",
   "execution_count": 36,
   "id": "d8a1aeb8",
   "metadata": {
    "execution": {
     "iopub.execute_input": "2023-11-03T03:46:14.848582Z",
     "iopub.status.busy": "2023-11-03T03:46:14.848255Z",
     "iopub.status.idle": "2023-11-03T03:46:14.852266Z",
     "shell.execute_reply": "2023-11-03T03:46:14.851153Z"
    },
    "papermill": {
     "duration": 0.026938,
     "end_time": "2023-11-03T03:46:14.854712",
     "exception": false,
     "start_time": "2023-11-03T03:46:14.827774",
     "status": "completed"
    },
    "tags": []
   },
   "outputs": [],
   "source": [
    "# pipes[\"cat\"].set_params(**{\n",
    "#     \"cat__min_child_samples\": 500,\n",
    "# })"
   ]
  },
  {
   "cell_type": "markdown",
   "id": "bd920ab1",
   "metadata": {
    "papermill": {
     "duration": 0.019213,
     "end_time": "2023-11-03T03:46:14.893628",
     "exception": false,
     "start_time": "2023-11-03T03:46:14.874415",
     "status": "completed"
    },
    "tags": []
   },
   "source": [
    "### Tuning LGBM"
   ]
  },
  {
   "cell_type": "code",
   "execution_count": 37,
   "id": "7372535c",
   "metadata": {
    "execution": {
     "iopub.execute_input": "2023-11-03T03:46:14.934253Z",
     "iopub.status.busy": "2023-11-03T03:46:14.933914Z",
     "iopub.status.idle": "2023-11-03T03:46:14.939777Z",
     "shell.execute_reply": "2023-11-03T03:46:14.938459Z"
    },
    "papermill": {
     "duration": 0.029052,
     "end_time": "2023-11-03T03:46:14.942263",
     "exception": false,
     "start_time": "2023-11-03T03:46:14.913211",
     "status": "completed"
    },
    "tags": []
   },
   "outputs": [],
   "source": [
    "# pipes['lgb'].named_steps['lgb'].get_params()"
   ]
  },
  {
   "cell_type": "code",
   "execution_count": 38,
   "id": "fbbe5f92",
   "metadata": {
    "execution": {
     "iopub.execute_input": "2023-11-03T03:46:14.984920Z",
     "iopub.status.busy": "2023-11-03T03:46:14.984594Z",
     "iopub.status.idle": "2023-11-03T03:46:14.988366Z",
     "shell.execute_reply": "2023-11-03T03:46:14.987497Z"
    },
    "papermill": {
     "duration": 0.027619,
     "end_time": "2023-11-03T03:46:14.990113",
     "exception": false,
     "start_time": "2023-11-03T03:46:14.962494",
     "status": "completed"
    },
    "tags": []
   },
   "outputs": [],
   "source": [
    "# param_grid = {\n",
    "#     'min_child_samples': [i for i in range(10, 110, 10)],\n",
    "# }\n",
    "# tune_param('lgb', param_grid, chart=\"line\")"
   ]
  },
  {
   "cell_type": "code",
   "execution_count": 39,
   "id": "1922114d",
   "metadata": {
    "execution": {
     "iopub.execute_input": "2023-11-03T03:46:15.030562Z",
     "iopub.status.busy": "2023-11-03T03:46:15.030244Z",
     "iopub.status.idle": "2023-11-03T03:46:15.034607Z",
     "shell.execute_reply": "2023-11-03T03:46:15.033276Z"
    },
    "papermill": {
     "duration": 0.026925,
     "end_time": "2023-11-03T03:46:15.036468",
     "exception": false,
     "start_time": "2023-11-03T03:46:15.009543",
     "status": "completed"
    },
    "tags": []
   },
   "outputs": [],
   "source": [
    "# pipes[\"lgb\"].set_params(**{\n",
    "#     \"lgb__min_child_samples\": 70,\n",
    "# })"
   ]
  },
  {
   "cell_type": "code",
   "execution_count": 40,
   "id": "9272134f",
   "metadata": {
    "execution": {
     "iopub.execute_input": "2023-11-03T03:46:15.076669Z",
     "iopub.status.busy": "2023-11-03T03:46:15.076319Z",
     "iopub.status.idle": "2023-11-03T03:46:15.080866Z",
     "shell.execute_reply": "2023-11-03T03:46:15.079791Z"
    },
    "papermill": {
     "duration": 0.026606,
     "end_time": "2023-11-03T03:46:15.082646",
     "exception": false,
     "start_time": "2023-11-03T03:46:15.056040",
     "status": "completed"
    },
    "tags": []
   },
   "outputs": [],
   "source": [
    "# param_grid = {\n",
    "#     'n_estimators': [i for i in range(100, 1000, 100)],\n",
    "# }\n",
    "# tune_param('lgb', param_grid, chart=\"line\")"
   ]
  },
  {
   "cell_type": "code",
   "execution_count": 41,
   "id": "ee70fe3f",
   "metadata": {
    "execution": {
     "iopub.execute_input": "2023-11-03T03:46:15.123189Z",
     "iopub.status.busy": "2023-11-03T03:46:15.122851Z",
     "iopub.status.idle": "2023-11-03T03:46:15.127230Z",
     "shell.execute_reply": "2023-11-03T03:46:15.126200Z"
    },
    "papermill": {
     "duration": 0.026734,
     "end_time": "2023-11-03T03:46:15.129685",
     "exception": false,
     "start_time": "2023-11-03T03:46:15.102951",
     "status": "completed"
    },
    "tags": []
   },
   "outputs": [],
   "source": [
    "# pipes[\"lgb\"].set_params(**{\n",
    "#     \"lgb__n_estimators\": 700,\n",
    "# })"
   ]
  },
  {
   "cell_type": "code",
   "execution_count": 42,
   "id": "cd8eb6c5",
   "metadata": {
    "execution": {
     "iopub.execute_input": "2023-11-03T03:46:15.171790Z",
     "iopub.status.busy": "2023-11-03T03:46:15.171247Z",
     "iopub.status.idle": "2023-11-03T03:46:15.175295Z",
     "shell.execute_reply": "2023-11-03T03:46:15.174364Z"
    },
    "papermill": {
     "duration": 0.027415,
     "end_time": "2023-11-03T03:46:15.177946",
     "exception": false,
     "start_time": "2023-11-03T03:46:15.150531",
     "status": "completed"
    },
    "tags": []
   },
   "outputs": [],
   "source": [
    "# param_grid = {\n",
    "#     'boosting_type': [\"gbdt\", \"dart\", \"goss\"],\n",
    "# }\n",
    "# tune_param('lgb', param_grid, chart=\"line\")"
   ]
  },
  {
   "cell_type": "markdown",
   "id": "3769cb5e",
   "metadata": {
    "papermill": {
     "duration": 0.019109,
     "end_time": "2023-11-03T03:46:15.216816",
     "exception": false,
     "start_time": "2023-11-03T03:46:15.197707",
     "status": "completed"
    },
    "tags": []
   },
   "source": [
    "### Tuning XGBClassifier"
   ]
  },
  {
   "cell_type": "code",
   "execution_count": 43,
   "id": "c6fc10a1",
   "metadata": {
    "execution": {
     "iopub.execute_input": "2023-11-03T03:46:15.256943Z",
     "iopub.status.busy": "2023-11-03T03:46:15.256584Z",
     "iopub.status.idle": "2023-11-03T03:46:15.261649Z",
     "shell.execute_reply": "2023-11-03T03:46:15.260781Z"
    },
    "papermill": {
     "duration": 0.027327,
     "end_time": "2023-11-03T03:46:15.263610",
     "exception": false,
     "start_time": "2023-11-03T03:46:15.236283",
     "status": "completed"
    },
    "tags": []
   },
   "outputs": [],
   "source": [
    "# pipes['xgb'].named_steps['xgb'].get_params()"
   ]
  },
  {
   "cell_type": "code",
   "execution_count": 44,
   "id": "ef9f780c",
   "metadata": {
    "execution": {
     "iopub.execute_input": "2023-11-03T03:46:15.303690Z",
     "iopub.status.busy": "2023-11-03T03:46:15.303363Z",
     "iopub.status.idle": "2023-11-03T03:46:15.308242Z",
     "shell.execute_reply": "2023-11-03T03:46:15.306920Z"
    },
    "papermill": {
     "duration": 0.02792,
     "end_time": "2023-11-03T03:46:15.310958",
     "exception": false,
     "start_time": "2023-11-03T03:46:15.283038",
     "status": "completed"
    },
    "tags": []
   },
   "outputs": [],
   "source": [
    "# param_grid = {\n",
    "#     'n_estimators': [i for i in range(10, 110, 10)],\n",
    "# }\n",
    "# tune_param('xgb', param_grid, chart=\"line\")"
   ]
  },
  {
   "cell_type": "markdown",
   "id": "8f2a149b",
   "metadata": {
    "papermill": {
     "duration": 0.01961,
     "end_time": "2023-11-03T03:46:15.351086",
     "exception": false,
     "start_time": "2023-11-03T03:46:15.331476",
     "status": "completed"
    },
    "tags": []
   },
   "source": [
    "### Tuning ExtraTreeClassifier"
   ]
  },
  {
   "cell_type": "code",
   "execution_count": 45,
   "id": "a083f01b",
   "metadata": {
    "execution": {
     "iopub.execute_input": "2023-11-03T03:46:15.391705Z",
     "iopub.status.busy": "2023-11-03T03:46:15.390951Z",
     "iopub.status.idle": "2023-11-03T03:46:15.394825Z",
     "shell.execute_reply": "2023-11-03T03:46:15.393545Z"
    },
    "papermill": {
     "duration": 0.026803,
     "end_time": "2023-11-03T03:46:15.397632",
     "exception": false,
     "start_time": "2023-11-03T03:46:15.370829",
     "status": "completed"
    },
    "tags": []
   },
   "outputs": [],
   "source": [
    "# pipes['extree'].named_steps['extree'].get_params()"
   ]
  },
  {
   "cell_type": "code",
   "execution_count": 46,
   "id": "954fe624",
   "metadata": {
    "execution": {
     "iopub.execute_input": "2023-11-03T03:46:15.437494Z",
     "iopub.status.busy": "2023-11-03T03:46:15.437184Z",
     "iopub.status.idle": "2023-11-03T03:46:15.441194Z",
     "shell.execute_reply": "2023-11-03T03:46:15.440040Z"
    },
    "papermill": {
     "duration": 0.025923,
     "end_time": "2023-11-03T03:46:15.443016",
     "exception": false,
     "start_time": "2023-11-03T03:46:15.417093",
     "status": "completed"
    },
    "tags": []
   },
   "outputs": [],
   "source": [
    "# param_grid = {\n",
    "#     'n_estimators': [i for i in range(1, 20, 1)],\n",
    "# }\n",
    "# tune_param('extree', param_grid, chart=\"line\")"
   ]
  },
  {
   "cell_type": "code",
   "execution_count": 47,
   "id": "7882c5d0",
   "metadata": {
    "execution": {
     "iopub.execute_input": "2023-11-03T03:46:15.483693Z",
     "iopub.status.busy": "2023-11-03T03:46:15.483401Z",
     "iopub.status.idle": "2023-11-03T03:46:15.487519Z",
     "shell.execute_reply": "2023-11-03T03:46:15.486609Z"
    },
    "papermill": {
     "duration": 0.026411,
     "end_time": "2023-11-03T03:46:15.489303",
     "exception": false,
     "start_time": "2023-11-03T03:46:15.462892",
     "status": "completed"
    },
    "tags": []
   },
   "outputs": [],
   "source": [
    "# pipes[\"extree\"].set_params(**{\n",
    "#     \"extree__n_estimators\": 700,\n",
    "# })"
   ]
  },
  {
   "cell_type": "code",
   "execution_count": 48,
   "id": "105ea734",
   "metadata": {
    "execution": {
     "iopub.execute_input": "2023-11-03T03:46:15.529273Z",
     "iopub.status.busy": "2023-11-03T03:46:15.528984Z",
     "iopub.status.idle": "2023-11-03T03:46:15.533370Z",
     "shell.execute_reply": "2023-11-03T03:46:15.532318Z"
    },
    "papermill": {
     "duration": 0.026484,
     "end_time": "2023-11-03T03:46:15.535162",
     "exception": false,
     "start_time": "2023-11-03T03:46:15.508678",
     "status": "completed"
    },
    "tags": []
   },
   "outputs": [],
   "source": [
    "# param_grid = {\n",
    "#     'min_sample_leaf': [i for i in range(100, 1100, 100)],\n",
    "# }\n",
    "# tune_param('extree', param_grid, chart=\"line\")"
   ]
  },
  {
   "cell_type": "code",
   "execution_count": 49,
   "id": "adb687db",
   "metadata": {
    "execution": {
     "iopub.execute_input": "2023-11-03T03:46:15.573549Z",
     "iopub.status.busy": "2023-11-03T03:46:15.573273Z",
     "iopub.status.idle": "2023-11-03T03:46:15.576591Z",
     "shell.execute_reply": "2023-11-03T03:46:15.575780Z"
    },
    "papermill": {
     "duration": 0.023964,
     "end_time": "2023-11-03T03:46:15.578094",
     "exception": false,
     "start_time": "2023-11-03T03:46:15.554130",
     "status": "completed"
    },
    "tags": []
   },
   "outputs": [],
   "source": [
    "# param_grid = {\n",
    "#     'max_features': [i for i in range(1, 11, 1)],\n",
    "# }\n",
    "# tune_param('extree', param_grid, chart=\"line\")"
   ]
  },
  {
   "cell_type": "markdown",
   "id": "a504fecc",
   "metadata": {
    "papermill": {
     "duration": 0.018221,
     "end_time": "2023-11-03T03:46:15.614711",
     "exception": false,
     "start_time": "2023-11-03T03:46:15.596490",
     "status": "completed"
    },
    "tags": []
   },
   "source": [
    "## Plot feature importance (using ExtraTree)"
   ]
  },
  {
   "cell_type": "markdown",
   "id": "bbb1d114",
   "metadata": {
    "papermill": {
     "duration": 0.01866,
     "end_time": "2023-11-03T03:46:15.651990",
     "exception": false,
     "start_time": "2023-11-03T03:46:15.633330",
     "status": "completed"
    },
    "tags": []
   },
   "source": [
    "### Feature importance using ExtraTree"
   ]
  },
  {
   "cell_type": "code",
   "execution_count": 50,
   "id": "6061e6f6",
   "metadata": {
    "execution": {
     "iopub.execute_input": "2023-11-03T03:46:15.690380Z",
     "iopub.status.busy": "2023-11-03T03:46:15.690062Z",
     "iopub.status.idle": "2023-11-03T03:46:15.693865Z",
     "shell.execute_reply": "2023-11-03T03:46:15.693063Z"
    },
    "papermill": {
     "duration": 0.025216,
     "end_time": "2023-11-03T03:46:15.695568",
     "exception": false,
     "start_time": "2023-11-03T03:46:15.670352",
     "status": "completed"
    },
    "tags": []
   },
   "outputs": [],
   "source": [
    "# extree_feature_importance = pipes[\"extree\"].named_steps['extree'].feature_importances_"
   ]
  },
  {
   "cell_type": "code",
   "execution_count": 51,
   "id": "334e2cd4",
   "metadata": {
    "execution": {
     "iopub.execute_input": "2023-11-03T03:46:15.734291Z",
     "iopub.status.busy": "2023-11-03T03:46:15.733977Z",
     "iopub.status.idle": "2023-11-03T03:46:15.737963Z",
     "shell.execute_reply": "2023-11-03T03:46:15.737086Z"
    },
    "papermill": {
     "duration": 0.025173,
     "end_time": "2023-11-03T03:46:15.739631",
     "exception": false,
     "start_time": "2023-11-03T03:46:15.714458",
     "status": "completed"
    },
    "tags": []
   },
   "outputs": [],
   "source": [
    "# extree_feature_importance.shape"
   ]
  },
  {
   "cell_type": "code",
   "execution_count": 52,
   "id": "41ae536d",
   "metadata": {
    "execution": {
     "iopub.execute_input": "2023-11-03T03:46:15.779208Z",
     "iopub.status.busy": "2023-11-03T03:46:15.778887Z",
     "iopub.status.idle": "2023-11-03T03:46:15.783841Z",
     "shell.execute_reply": "2023-11-03T03:46:15.782547Z"
    },
    "papermill": {
     "duration": 0.027539,
     "end_time": "2023-11-03T03:46:15.786038",
     "exception": false,
     "start_time": "2023-11-03T03:46:15.758499",
     "status": "completed"
    },
    "tags": []
   },
   "outputs": [],
   "source": [
    "# len(pipes[\"extree\"].named_steps['extree'].estimators_)"
   ]
  },
  {
   "cell_type": "code",
   "execution_count": 53,
   "id": "1168cf5e",
   "metadata": {
    "execution": {
     "iopub.execute_input": "2023-11-03T03:46:15.827374Z",
     "iopub.status.busy": "2023-11-03T03:46:15.827047Z",
     "iopub.status.idle": "2023-11-03T03:46:15.832059Z",
     "shell.execute_reply": "2023-11-03T03:46:15.831305Z"
    },
    "papermill": {
     "duration": 0.027702,
     "end_time": "2023-11-03T03:46:15.833703",
     "exception": false,
     "start_time": "2023-11-03T03:46:15.806001",
     "status": "completed"
    },
    "tags": []
   },
   "outputs": [],
   "source": [
    "# len(pipes[\"extree\"].named_steps['extree'].estimators_[0].feature_importances_)"
   ]
  },
  {
   "cell_type": "code",
   "execution_count": 54,
   "id": "b476f711",
   "metadata": {
    "execution": {
     "iopub.execute_input": "2023-11-03T03:46:15.872398Z",
     "iopub.status.busy": "2023-11-03T03:46:15.872088Z",
     "iopub.status.idle": "2023-11-03T03:46:15.875712Z",
     "shell.execute_reply": "2023-11-03T03:46:15.875051Z"
    },
    "papermill": {
     "duration": 0.025651,
     "end_time": "2023-11-03T03:46:15.878408",
     "exception": false,
     "start_time": "2023-11-03T03:46:15.852757",
     "status": "completed"
    },
    "tags": []
   },
   "outputs": [],
   "source": [
    "# feature_importance_normalized = np.std([t.feature_importances_ for t in pipes[\"extree\"].named_steps['extree'].estimators_], \n",
    "#                                       axis=0)"
   ]
  },
  {
   "cell_type": "code",
   "execution_count": 55,
   "id": "f9e238f5",
   "metadata": {
    "execution": {
     "iopub.execute_input": "2023-11-03T03:46:15.919314Z",
     "iopub.status.busy": "2023-11-03T03:46:15.919002Z",
     "iopub.status.idle": "2023-11-03T03:46:15.924249Z",
     "shell.execute_reply": "2023-11-03T03:46:15.923307Z"
    },
    "papermill": {
     "duration": 0.027841,
     "end_time": "2023-11-03T03:46:15.926646",
     "exception": false,
     "start_time": "2023-11-03T03:46:15.898805",
     "status": "completed"
    },
    "tags": []
   },
   "outputs": [],
   "source": [
    "# plt.barh(train_X.columns, feature_importance_normalized)\n",
    "# plt.xlabel('Feature Labels')\n",
    "# plt.ylabel('Feature Importances')\n",
    "# plt.title('Comparison of different Feature Importances')\n",
    "# plt.show()"
   ]
  },
  {
   "cell_type": "markdown",
   "id": "a2b32fc4",
   "metadata": {
    "papermill": {
     "duration": 0.01994,
     "end_time": "2023-11-03T03:46:15.966653",
     "exception": false,
     "start_time": "2023-11-03T03:46:15.946713",
     "status": "completed"
    },
    "tags": []
   },
   "source": [
    "### Feature importance based on feature permutation\n"
   ]
  },
  {
   "cell_type": "code",
   "execution_count": 56,
   "id": "0e574290",
   "metadata": {
    "execution": {
     "iopub.execute_input": "2023-11-03T03:46:16.008415Z",
     "iopub.status.busy": "2023-11-03T03:46:16.008046Z",
     "iopub.status.idle": "2023-11-03T03:46:16.012514Z",
     "shell.execute_reply": "2023-11-03T03:46:16.011205Z"
    },
    "papermill": {
     "duration": 0.028387,
     "end_time": "2023-11-03T03:46:16.014944",
     "exception": false,
     "start_time": "2023-11-03T03:46:15.986557",
     "status": "completed"
    },
    "tags": []
   },
   "outputs": [],
   "source": [
    "# permutation_result = permutation_importance(\n",
    "#     pipes[\"extree\"].named_steps['extree'], \n",
    "#     train_X, train_y, n_repeats=10, random_state=42\n",
    "# )"
   ]
  },
  {
   "cell_type": "code",
   "execution_count": 57,
   "id": "fdf7943b",
   "metadata": {
    "execution": {
     "iopub.execute_input": "2023-11-03T03:46:16.055232Z",
     "iopub.status.busy": "2023-11-03T03:46:16.054924Z",
     "iopub.status.idle": "2023-11-03T03:46:16.059641Z",
     "shell.execute_reply": "2023-11-03T03:46:16.058393Z"
    },
    "papermill": {
     "duration": 0.027539,
     "end_time": "2023-11-03T03:46:16.062229",
     "exception": false,
     "start_time": "2023-11-03T03:46:16.034690",
     "status": "completed"
    },
    "tags": []
   },
   "outputs": [],
   "source": [
    "# plt.barh(train_X.columns, permutation_result.importances_std)\n",
    "# plt.xlabel('Feature Labels')\n",
    "# plt.ylabel('Feature Importances')\n",
    "# plt.title('Comparison of different Feature Importances')\n",
    "# plt.show()"
   ]
  },
  {
   "cell_type": "markdown",
   "id": "0a50a727",
   "metadata": {
    "papermill": {
     "duration": 0.020143,
     "end_time": "2023-11-03T03:46:16.101803",
     "exception": false,
     "start_time": "2023-11-03T03:46:16.081660",
     "status": "completed"
    },
    "tags": []
   },
   "source": [
    "## Plotting learning curve"
   ]
  },
  {
   "cell_type": "code",
   "execution_count": 58,
   "id": "eceddbf9",
   "metadata": {
    "execution": {
     "iopub.execute_input": "2023-11-03T03:46:16.140926Z",
     "iopub.status.busy": "2023-11-03T03:46:16.140606Z",
     "iopub.status.idle": "2023-11-03T03:46:16.150214Z",
     "shell.execute_reply": "2023-11-03T03:46:16.149015Z"
    },
    "papermill": {
     "duration": 0.031599,
     "end_time": "2023-11-03T03:46:16.152580",
     "exception": false,
     "start_time": "2023-11-03T03:46:16.120981",
     "status": "completed"
    },
    "tags": []
   },
   "outputs": [],
   "source": [
    "def plot_learning_curve(estimator, title, X, y, ylim=None, cv=None, n_jobs=-1, train_sizes=np.linspace(.1, 1.0, 5)):\n",
    "    plt.figure()\n",
    "    plt.title(title)\n",
    "    if ylim is not None:\n",
    "        plt.ylim(*ylim)\n",
    "    plt.xlabel(\"Training examples\")\n",
    "    plt.ylabel(\"Score\")\n",
    "    train_sizes, train_scores, test_scores = learning_curve(\n",
    "        estimator, X, y, cv=cv, n_jobs=n_jobs, train_sizes=train_sizes)\n",
    "    train_scores_mean = np.mean(train_scores, axis=1)\n",
    "    train_scores_std = np.std(train_scores, axis=1)\n",
    "    test_scores_mean = np.mean(test_scores, axis=1)\n",
    "    test_scores_std = np.std(test_scores, axis=1)\n",
    "    plt.grid()\n",
    "\n",
    "    plt.fill_between(train_sizes, train_scores_mean - train_scores_std,\n",
    "                     train_scores_mean + train_scores_std, alpha=0.1,\n",
    "                     color=\"r\")\n",
    "    plt.fill_between(train_sizes, test_scores_mean - test_scores_std,\n",
    "                     test_scores_mean + test_scores_std, alpha=0.1, color=\"g\")\n",
    "    plt.plot(train_sizes, train_scores_mean, 'o-', color=\"r\",\n",
    "             label=\"Training score\")\n",
    "    plt.plot(train_sizes, test_scores_mean, 'o-', color=\"g\",\n",
    "             label=\"Cross-validation score\")\n",
    "\n",
    "    plt.legend(loc=\"best\")\n",
    "    return plt"
   ]
  },
  {
   "cell_type": "code",
   "execution_count": 59,
   "id": "a96bed17",
   "metadata": {
    "execution": {
     "iopub.execute_input": "2023-11-03T03:46:16.194869Z",
     "iopub.status.busy": "2023-11-03T03:46:16.194523Z",
     "iopub.status.idle": "2023-11-03T04:09:54.671486Z",
     "shell.execute_reply": "2023-11-03T04:09:54.670404Z"
    },
    "papermill": {
     "duration": 1418.500481,
     "end_time": "2023-11-03T04:09:54.673348",
     "exception": false,
     "start_time": "2023-11-03T03:46:16.172867",
     "status": "completed"
    },
    "tags": []
   },
   "outputs": [
    {
     "name": "stdout",
     "output_type": "stream",
     "text": [
      "Plotting xgb\n",
      "Plotting lgb\n",
      "Plotting cat\n"
     ]
    },
    {
     "data": {
      "image/png": "[encoded data removed]",
      "text/plain": [
       "<Figure size 640x480 with 1 Axes>"
      ]
     },
     "metadata": {},
     "output_type": "display_data"
    },
    {
     "data": {
      "image/png": "[encoded data removed]",
      "text/plain": [
       "<Figure size 640x480 with 1 Axes>"
      ]
     },
     "metadata": {},
     "output_type": "display_data"
    },
    {
     "data": {
      "image/png": "[encoded data removed]",
      "text/plain": [
       "<Figure size 640x480 with 1 Axes>"
      ]
     },
     "metadata": {},
     "output_type": "display_data"
    }
   ],
   "source": [
    "to_plot = [\n",
    "    \"xgb\",\n",
    "    \"lgb\",\n",
    "#     \"extree\",\n",
    "#     \"gb\",\n",
    "#     \"lr\",\n",
    "    \"cat\"\n",
    "]\n",
    "\n",
    "for name in pipes.keys():\n",
    "    if name in to_plot:\n",
    "        print(f\"Plotting {name}\")\n",
    "        g = plot_learning_curve(\n",
    "            pipes[name].named_steps[name],\n",
    "            f\"{name} learning curves\",\n",
    "            train_X_std,\n",
    "            train_y,\n",
    "            cv=KFold(5),\n",
    "            n_jobs=4\n",
    "        )"
   ]
  },
  {
   "cell_type": "code",
   "execution_count": 60,
   "id": "e7fe469a",
   "metadata": {
    "execution": {
     "iopub.execute_input": "2023-11-03T04:09:54.715806Z",
     "iopub.status.busy": "2023-11-03T04:09:54.715462Z",
     "iopub.status.idle": "2023-11-03T04:09:57.053059Z",
     "shell.execute_reply": "2023-11-03T04:09:57.051941Z"
    },
    "papermill": {
     "duration": 2.36168,
     "end_time": "2023-11-03T04:09:57.055619",
     "exception": false,
     "start_time": "2023-11-03T04:09:54.693939",
     "status": "completed"
    },
    "tags": []
   },
   "outputs": [
    {
     "data": {
      "text/plain": [
       "<Axes: >"
      ]
     },
     "execution_count": 60,
     "metadata": {},
     "output_type": "execute_result"
    },
    {
     "data": {
      "image/png": "[encoded data removed]",
      "text/plain": [
       "<Figure size 640x480 with 2 Axes>"
      ]
     },
     "metadata": {},
     "output_type": "display_data"
    }
   ],
   "source": [
    "ensemble_results = pd.DataFrame()\n",
    "\n",
    "for name, pipe in pipes.items():\n",
    "    ensemble_results[name] = pipe.predict(train_X)\n",
    "    \n",
    "sns.heatmap(ensemble_results.corr(), annot=True)"
   ]
  },
  {
   "cell_type": "markdown",
   "id": "50b8b603",
   "metadata": {
    "papermill": {
     "duration": 0.020826,
     "end_time": "2023-11-03T04:09:57.097878",
     "exception": false,
     "start_time": "2023-11-03T04:09:57.077052",
     "status": "completed"
    },
    "tags": []
   },
   "source": [
    "# Submission"
   ]
  },
  {
   "cell_type": "markdown",
   "id": "1b423b8a",
   "metadata": {
    "papermill": {
     "duration": 0.020873,
     "end_time": "2023-11-03T04:09:57.140189",
     "exception": false,
     "start_time": "2023-11-03T04:09:57.119316",
     "status": "completed"
    },
    "tags": []
   },
   "source": [
    "## Voting Classifier"
   ]
  },
  {
   "cell_type": "code",
   "execution_count": 61,
   "id": "15f47889",
   "metadata": {
    "execution": {
     "iopub.execute_input": "2023-11-03T04:09:57.184041Z",
     "iopub.status.busy": "2023-11-03T04:09:57.183696Z",
     "iopub.status.idle": "2023-11-03T04:09:57.188735Z",
     "shell.execute_reply": "2023-11-03T04:09:57.187904Z"
    },
    "papermill": {
     "duration": 0.029107,
     "end_time": "2023-11-03T04:09:57.190474",
     "exception": false,
     "start_time": "2023-11-03T04:09:57.161367",
     "status": "completed"
    },
    "tags": []
   },
   "outputs": [],
   "source": [
    "vote = Pipeline([\n",
    "    (\"robust_scaler\", RobustScaler()),\n",
    "    (\"voter\", VotingClassifier(estimators, \n",
    "                               voting=\"soft\", \n",
    "                               n_jobs=4))\n",
    "], verbose=True)"
   ]
  },
  {
   "cell_type": "code",
   "execution_count": 62,
   "id": "7120a888",
   "metadata": {
    "execution": {
     "iopub.execute_input": "2023-11-03T04:09:57.234187Z",
     "iopub.status.busy": "2023-11-03T04:09:57.233827Z",
     "iopub.status.idle": "2023-11-03T04:11:45.858642Z",
     "shell.execute_reply": "2023-11-03T04:11:45.857677Z"
    },
    "papermill": {
     "duration": 108.669934,
     "end_time": "2023-11-03T04:11:45.881627",
     "exception": false,
     "start_time": "2023-11-03T04:09:57.211693",
     "status": "completed"
    },
    "tags": []
   },
   "outputs": [
    {
     "name": "stdout",
     "output_type": "stream",
     "text": [
      "[Pipeline] ..... (step 1 of 2) Processing robust_scaler, total=   0.1s\n",
      "[Pipeline] ............. (step 2 of 2) Processing voter, total= 1.8min\n"
     ]
    },
    {
     "data": {
      "text/html": [
       "<style>#sk-container-id-1 {color: black;background-color: white;}#sk-container-id-1 pre{padding: 0;}#sk-container-id-1 div.sk-toggleable {background-color: white;}#sk-container-id-1 label.sk-toggleable__label {cursor: pointer;display: block;width: 100%;margin-bottom: 0;padding: 0.3em;box-sizing: border-box;text-align: center;}#sk-container-id-1 label.sk-toggleable__label-arrow:before {content: \"▸\";float: left;margin-right: 0.25em;color: #696969;}#sk-container-id-1 label.sk-toggleable__label-arrow:hover:before {color: black;}#sk-container-id-1 div.sk-estimator:hover label.sk-toggleable__label-arrow:before {color: black;}#sk-container-id-1 div.sk-toggleable__content {max-height: 0;max-width: 0;overflow: hidden;text-align: left;background-color: #f0f8ff;}#sk-container-id-1 div.sk-toggleable__content pre {margin: 0.2em;color: black;border-radius: 0.25em;background-color: #f0f8ff;}#sk-container-id-1 input.sk-toggleable__control:checked~div.sk-toggleable__content {max-height: 200px;max-width: 100%;overflow: auto;}#sk-container-id-1 input.sk-toggleable__control:checked~label.sk-toggleable__label-arrow:before {content: \"▾\";}#sk-container-id-1 div.sk-estimator input.sk-toggleable__control:checked~label.sk-toggleable__label {background-color: #d4ebff;}#sk-container-id-1 div.sk-label input.sk-toggleable__control:checked~label.sk-toggleable__label {background-color: #d4ebff;}#sk-container-id-1 input.sk-hidden--visually {border: 0;clip: rect(1px 1px 1px 1px);clip: rect(1px, 1px, 1px, 1px);height: 1px;margin: -1px;overflow: hidden;padding: 0;position: absolute;width: 1px;}#sk-container-id-1 div.sk-estimator {font-family: monospace;background-color: #f0f8ff;border: 1px dotted black;border-radius: 0.25em;box-sizing: border-box;margin-bottom: 0.5em;}#sk-container-id-1 div.sk-estimator:hover {background-color: #d4ebff;}#sk-container-id-1 div.sk-parallel-item::after {content: \"\";width: 100%;border-bottom: 1px solid gray;flex-grow: 1;}#sk-container-id-1 div.sk-label:hover label.sk-toggleable__label {background-color: #d4ebff;}#sk-container-id-1 div.sk-serial::before {content: \"\";position: absolute;border-left: 1px solid gray;box-sizing: border-box;top: 0;bottom: 0;left: 50%;z-index: 0;}#sk-container-id-1 div.sk-serial {display: flex;flex-direction: column;align-items: center;background-color: white;padding-right: 0.2em;padding-left: 0.2em;position: relative;}#sk-container-id-1 div.sk-item {position: relative;z-index: 1;}#sk-container-id-1 div.sk-parallel {display: flex;align-items: stretch;justify-content: center;background-color: white;position: relative;}#sk-container-id-1 div.sk-item::before, #sk-container-id-1 div.sk-parallel-item::before {content: \"\";position: absolute;border-left: 1px solid gray;box-sizing: border-box;top: 0;bottom: 0;left: 50%;z-index: -1;}#sk-container-id-1 div.sk-parallel-item {display: flex;flex-direction: column;z-index: 1;position: relative;background-color: white;}#sk-container-id-1 div.sk-parallel-item:first-child::after {align-self: flex-end;width: 50%;}#sk-container-id-1 div.sk-parallel-item:last-child::after {align-self: flex-start;width: 50%;}#sk-container-id-1 div.sk-parallel-item:only-child::after {width: 0;}#sk-container-id-1 div.sk-dashed-wrapped {border: 1px dashed gray;margin: 0 0.4em 0.5em 0.4em;box-sizing: border-box;padding-bottom: 0.4em;background-color: white;}#sk-container-id-1 div.sk-label label {font-family: monospace;font-weight: bold;display: inline-block;line-height: 1.2em;}#sk-container-id-1 div.sk-label-container {text-align: center;}#sk-container-id-1 div.sk-container {/* jupyter's `normalize.less` sets `[hidden] { display: none; }` but bootstrap.min.css set `[hidden] { display: none !important; }` so we also need the `!important` here to be able to override the default hidden behavior on the sphinx rendered scikit-learn.org. See: https://github.com/scikit-learn/scikit-learn/issues/21755 */display: inline-block !important;position: relative;}#sk-container-id-1 div.sk-text-repr-fallback {display: none;}</style><div id=\"sk-container-id-1\" class=\"sk-top-container\"><div class=\"sk-text-repr-fallback\"><pre>Pipeline(steps=[(&#x27;robust_scaler&#x27;, RobustScaler()),\n",
       "                (&#x27;voter&#x27;,\n",
       "                 VotingClassifier(estimators=[(&#x27;xgb&#x27;,\n",
       "                                               XGBClassifier(base_score=None,\n",
       "                                                             booster=None,\n",
       "                                                             callbacks=None,\n",
       "                                                             colsample_bylevel=None,\n",
       "                                                             colsample_bynode=None,\n",
       "                                                             colsample_bytree=None,\n",
       "                                                             early_stopping_rounds=None,\n",
       "                                                             enable_categorical=False,\n",
       "                                                             eval_metric=None,\n",
       "                                                             feature_types=None,\n",
       "                                                             gamma=None,\n",
       "                                                             gpu_id=None,\n",
       "                                                             grow_policy=None,\n",
       "                                                             imp...\n",
       "                                                             max_depth=None,\n",
       "                                                             max_leaves=None,\n",
       "                                                             min_child_weight=None,\n",
       "                                                             missing=nan,\n",
       "                                                             monotone_constraints=None,\n",
       "                                                             n_estimators=100,\n",
       "                                                             n_jobs=4,\n",
       "                                                             num_parallel_tree=None,\n",
       "                                                             predictor=None,\n",
       "                                                             random_state=42, ...)),\n",
       "                                              (&#x27;lgb&#x27;,\n",
       "                                               LGBMClassifier(min_child_samples=70,\n",
       "                                                              n_estimators=700,\n",
       "                                                              random_state=42)),\n",
       "                                              (&#x27;cat&#x27;,\n",
       "                                               &lt;catboost.core.CatBoostClassifier object at 0x7cbce606faf0&gt;)],\n",
       "                                  n_jobs=4, voting=&#x27;soft&#x27;))],\n",
       "         verbose=True)</pre><b>In a Jupyter environment, please rerun this cell to show the HTML representation or trust the notebook. <br />On GitHub, the HTML representation is unable to render, please try loading this page with nbviewer.org.</b></div><div class=\"sk-container\" hidden><div class=\"sk-item sk-dashed-wrapped\"><div class=\"sk-label-container\"><div class=\"sk-label sk-toggleable\"><input class=\"sk-toggleable__control sk-hidden--visually\" id=\"sk-estimator-id-1\" type=\"checkbox\" ><label for=\"sk-estimator-id-1\" class=\"sk-toggleable__label sk-toggleable__label-arrow\">Pipeline</label><div class=\"sk-toggleable__content\"><pre>Pipeline(steps=[(&#x27;robust_scaler&#x27;, RobustScaler()),\n",
       "                (&#x27;voter&#x27;,\n",
       "                 VotingClassifier(estimators=[(&#x27;xgb&#x27;,\n",
       "                                               XGBClassifier(base_score=None,\n",
       "                                                             booster=None,\n",
       "                                                             callbacks=None,\n",
       "                                                             colsample_bylevel=None,\n",
       "                                                             colsample_bynode=None,\n",
       "                                                             colsample_bytree=None,\n",
       "                                                             early_stopping_rounds=None,\n",
       "                                                             enable_categorical=False,\n",
       "                                                             eval_metric=None,\n",
       "                                                             feature_types=None,\n",
       "                                                             gamma=None,\n",
       "                                                             gpu_id=None,\n",
       "                                                             grow_policy=None,\n",
       "                                                             imp...\n",
       "                                                             max_depth=None,\n",
       "                                                             max_leaves=None,\n",
       "                                                             min_child_weight=None,\n",
       "                                                             missing=nan,\n",
       "                                                             monotone_constraints=None,\n",
       "                                                             n_estimators=100,\n",
       "                                                             n_jobs=4,\n",
       "                                                             num_parallel_tree=None,\n",
       "                                                             predictor=None,\n",
       "                                                             random_state=42, ...)),\n",
       "                                              (&#x27;lgb&#x27;,\n",
       "                                               LGBMClassifier(min_child_samples=70,\n",
       "                                                              n_estimators=700,\n",
       "                                                              random_state=42)),\n",
       "                                              (&#x27;cat&#x27;,\n",
       "                                               &lt;catboost.core.CatBoostClassifier object at 0x7cbce606faf0&gt;)],\n",
       "                                  n_jobs=4, voting=&#x27;soft&#x27;))],\n",
       "         verbose=True)</pre></div></div></div><div class=\"sk-serial\"><div class=\"sk-item\"><div class=\"sk-estimator sk-toggleable\"><input class=\"sk-toggleable__control sk-hidden--visually\" id=\"sk-estimator-id-2\" type=\"checkbox\" ><label for=\"sk-estimator-id-2\" class=\"sk-toggleable__label sk-toggleable__label-arrow\">RobustScaler</label><div class=\"sk-toggleable__content\"><pre>RobustScaler()</pre></div></div></div><div class=\"sk-item sk-dashed-wrapped\"><div class=\"sk-label-container\"><div class=\"sk-label sk-toggleable\"><input class=\"sk-toggleable__control sk-hidden--visually\" id=\"sk-estimator-id-3\" type=\"checkbox\" ><label for=\"sk-estimator-id-3\" class=\"sk-toggleable__label sk-toggleable__label-arrow\">voter: VotingClassifier</label><div class=\"sk-toggleable__content\"><pre>VotingClassifier(estimators=[(&#x27;xgb&#x27;,\n",
       "                              XGBClassifier(base_score=None, booster=None,\n",
       "                                            callbacks=None,\n",
       "                                            colsample_bylevel=None,\n",
       "                                            colsample_bynode=None,\n",
       "                                            colsample_bytree=None,\n",
       "                                            early_stopping_rounds=None,\n",
       "                                            enable_categorical=False,\n",
       "                                            eval_metric=None,\n",
       "                                            feature_types=None, gamma=None,\n",
       "                                            gpu_id=None, grow_policy=None,\n",
       "                                            importance_type=None,\n",
       "                                            interaction_constraints=None,\n",
       "                                            learning_ra...\n",
       "                                            max_delta_step=None, max_depth=None,\n",
       "                                            max_leaves=None,\n",
       "                                            min_child_weight=None, missing=nan,\n",
       "                                            monotone_constraints=None,\n",
       "                                            n_estimators=100, n_jobs=4,\n",
       "                                            num_parallel_tree=None,\n",
       "                                            predictor=None, random_state=42, ...)),\n",
       "                             (&#x27;lgb&#x27;,\n",
       "                              LGBMClassifier(min_child_samples=70,\n",
       "                                             n_estimators=700,\n",
       "                                             random_state=42)),\n",
       "                             (&#x27;cat&#x27;,\n",
       "                              &lt;catboost.core.CatBoostClassifier object at 0x7cbce606faf0&gt;)],\n",
       "                 n_jobs=4, voting=&#x27;soft&#x27;)</pre></div></div></div><div class=\"sk-parallel\"><div class=\"sk-parallel-item\"><div class=\"sk-item\"><div class=\"sk-label-container\"><div class=\"sk-label sk-toggleable\"><label>xgb</label></div></div><div class=\"sk-serial\"><div class=\"sk-item\"><div class=\"sk-estimator sk-toggleable\"><input class=\"sk-toggleable__control sk-hidden--visually\" id=\"sk-estimator-id-4\" type=\"checkbox\" ><label for=\"sk-estimator-id-4\" class=\"sk-toggleable__label sk-toggleable__label-arrow\">XGBClassifier</label><div class=\"sk-toggleable__content\"><pre>XGBClassifier(base_score=None, booster=None, callbacks=None,\n",
       "              colsample_bylevel=None, colsample_bynode=None,\n",
       "              colsample_bytree=None, early_stopping_rounds=None,\n",
       "              enable_categorical=False, eval_metric=None, feature_types=None,\n",
       "              gamma=None, gpu_id=None, grow_policy=None, importance_type=None,\n",
       "              interaction_constraints=None, learning_rate=None, max_bin=None,\n",
       "              max_cat_threshold=None, max_cat_to_onehot=None,\n",
       "              max_delta_step=None, max_depth=None, max_leaves=None,\n",
       "              min_child_weight=None, missing=nan, monotone_constraints=None,\n",
       "              n_estimators=100, n_jobs=4, num_parallel_tree=None,\n",
       "              predictor=None, random_state=42, ...)</pre></div></div></div></div></div></div><div class=\"sk-parallel-item\"><div class=\"sk-item\"><div class=\"sk-label-container\"><div class=\"sk-label sk-toggleable\"><label>lgb</label></div></div><div class=\"sk-serial\"><div class=\"sk-item\"><div class=\"sk-estimator sk-toggleable\"><input class=\"sk-toggleable__control sk-hidden--visually\" id=\"sk-estimator-id-5\" type=\"checkbox\" ><label for=\"sk-estimator-id-5\" class=\"sk-toggleable__label sk-toggleable__label-arrow\">LGBMClassifier</label><div class=\"sk-toggleable__content\"><pre>LGBMClassifier(min_child_samples=70, n_estimators=700, random_state=42)</pre></div></div></div></div></div></div><div class=\"sk-parallel-item\"><div class=\"sk-item\"><div class=\"sk-label-container\"><div class=\"sk-label sk-toggleable\"><label>cat</label></div></div><div class=\"sk-serial\"><div class=\"sk-item\"><div class=\"sk-estimator sk-toggleable\"><input class=\"sk-toggleable__control sk-hidden--visually\" id=\"sk-estimator-id-6\" type=\"checkbox\" ><label for=\"sk-estimator-id-6\" class=\"sk-toggleable__label sk-toggleable__label-arrow\">CatBoostClassifier</label><div class=\"sk-toggleable__content\"><pre>&lt;catboost.core.CatBoostClassifier object at 0x7cbce606faf0&gt;</pre></div></div></div></div></div></div></div></div></div></div></div></div>"
      ],
      "text/plain": [
       "Pipeline(steps=[('robust_scaler', RobustScaler()),\n",
       "                ('voter',\n",
       "                 VotingClassifier(estimators=[('xgb',\n",
       "                                               XGBClassifier(base_score=None,\n",
       "                                                             booster=None,\n",
       "                                                             callbacks=None,\n",
       "                                                             colsample_bylevel=None,\n",
       "                                                             colsample_bynode=None,\n",
       "                                                             colsample_bytree=None,\n",
       "                                                             early_stopping_rounds=None,\n",
       "                                                             enable_categorical=False,\n",
       "                                                             eval_metric=None,\n",
       "                                                             feature_types=None,\n",
       "                                                             gamma=None,\n",
       "                                                             gpu_id=None,\n",
       "                                                             grow_policy=None,\n",
       "                                                             imp...\n",
       "                                                             max_depth=None,\n",
       "                                                             max_leaves=None,\n",
       "                                                             min_child_weight=None,\n",
       "                                                             missing=nan,\n",
       "                                                             monotone_constraints=None,\n",
       "                                                             n_estimators=100,\n",
       "                                                             n_jobs=4,\n",
       "                                                             num_parallel_tree=None,\n",
       "                                                             predictor=None,\n",
       "                                                             random_state=42, ...)),\n",
       "                                              ('lgb',\n",
       "                                               LGBMClassifier(min_child_samples=70,\n",
       "                                                              n_estimators=700,\n",
       "                                                              random_state=42)),\n",
       "                                              ('cat',\n",
       "                                               <catboost.core.CatBoostClassifier object at 0x7cbce606faf0>)],\n",
       "                                  n_jobs=4, voting='soft'))],\n",
       "         verbose=True)"
      ]
     },
     "execution_count": 62,
     "metadata": {},
     "output_type": "execute_result"
    }
   ],
   "source": [
    "vote.fit(train_X, train_y)"
   ]
  },
  {
   "cell_type": "code",
   "execution_count": 63,
   "id": "f618433c",
   "metadata": {
    "execution": {
     "iopub.execute_input": "2023-11-03T04:11:45.925647Z",
     "iopub.status.busy": "2023-11-03T04:11:45.925337Z",
     "iopub.status.idle": "2023-11-03T04:11:47.247319Z",
     "shell.execute_reply": "2023-11-03T04:11:47.246150Z"
    },
    "papermill": {
     "duration": 1.347179,
     "end_time": "2023-11-03T04:11:47.249949",
     "exception": false,
     "start_time": "2023-11-03T04:11:45.902770",
     "status": "completed"
    },
    "tags": []
   },
   "outputs": [],
   "source": [
    "pred_probs = vote.predict_proba(test_df)[:, 1]"
   ]
  },
  {
   "cell_type": "markdown",
   "id": "2a409ab9",
   "metadata": {
    "papermill": {
     "duration": 0.021073,
     "end_time": "2023-11-03T04:11:47.292826",
     "exception": false,
     "start_time": "2023-11-03T04:11:47.271753",
     "status": "completed"
    },
    "tags": []
   },
   "source": [
    "## Stacking Classifier"
   ]
  },
  {
   "cell_type": "code",
   "execution_count": 64,
   "id": "dabbd2ef",
   "metadata": {
    "execution": {
     "iopub.execute_input": "2023-11-03T04:11:47.338994Z",
     "iopub.status.busy": "2023-11-03T04:11:47.338621Z",
     "iopub.status.idle": "2023-11-03T04:11:47.342875Z",
     "shell.execute_reply": "2023-11-03T04:11:47.342008Z"
    },
    "papermill": {
     "duration": 0.030695,
     "end_time": "2023-11-03T04:11:47.344524",
     "exception": false,
     "start_time": "2023-11-03T04:11:47.313829",
     "status": "completed"
    },
    "tags": []
   },
   "outputs": [],
   "source": [
    "# final_estimator = GradientBoostingClassifier(\n",
    "#     verbose=3,\n",
    "#     random_state=42\n",
    "# )"
   ]
  },
  {
   "cell_type": "code",
   "execution_count": 65,
   "id": "a4023a18",
   "metadata": {
    "execution": {
     "iopub.execute_input": "2023-11-03T04:11:47.393076Z",
     "iopub.status.busy": "2023-11-03T04:11:47.392641Z",
     "iopub.status.idle": "2023-11-03T04:11:47.398950Z",
     "shell.execute_reply": "2023-11-03T04:11:47.397789Z"
    },
    "papermill": {
     "duration": 0.033016,
     "end_time": "2023-11-03T04:11:47.401129",
     "exception": false,
     "start_time": "2023-11-03T04:11:47.368113",
     "status": "completed"
    },
    "tags": []
   },
   "outputs": [],
   "source": [
    "# stack = Pipeline([\n",
    "#     (\"std_scaler\", StandardScaler()),\n",
    "#     (\"stack_vote\", StackingClassifier(estimators,\n",
    "#                                       final_estimator=final_estimator,\n",
    "#                                       cv=5, \n",
    "#                                       n_jobs=4, \n",
    "#                                       verbose=3))\n",
    "# ], verbose=True)"
   ]
  },
  {
   "cell_type": "code",
   "execution_count": 66,
   "id": "7a6c3d5f",
   "metadata": {
    "execution": {
     "iopub.execute_input": "2023-11-03T04:11:47.449775Z",
     "iopub.status.busy": "2023-11-03T04:11:47.449420Z",
     "iopub.status.idle": "2023-11-03T04:11:47.453869Z",
     "shell.execute_reply": "2023-11-03T04:11:47.452933Z"
    },
    "papermill": {
     "duration": 0.031126,
     "end_time": "2023-11-03T04:11:47.455635",
     "exception": false,
     "start_time": "2023-11-03T04:11:47.424509",
     "status": "completed"
    },
    "tags": []
   },
   "outputs": [],
   "source": [
    "# stack.fit(train_X, train_y)"
   ]
  },
  {
   "cell_type": "code",
   "execution_count": 67,
   "id": "3cec212d",
   "metadata": {
    "execution": {
     "iopub.execute_input": "2023-11-03T04:11:47.500866Z",
     "iopub.status.busy": "2023-11-03T04:11:47.500507Z",
     "iopub.status.idle": "2023-11-03T04:11:47.505148Z",
     "shell.execute_reply": "2023-11-03T04:11:47.504198Z"
    },
    "papermill": {
     "duration": 0.029468,
     "end_time": "2023-11-03T04:11:47.507049",
     "exception": false,
     "start_time": "2023-11-03T04:11:47.477581",
     "status": "completed"
    },
    "tags": []
   },
   "outputs": [],
   "source": [
    "# pred_probs = stack.predict_proba(test_df)[:, 1]"
   ]
  },
  {
   "cell_type": "markdown",
   "id": "63bc412b",
   "metadata": {
    "papermill": {
     "duration": 0.021944,
     "end_time": "2023-11-03T04:11:47.551597",
     "exception": false,
     "start_time": "2023-11-03T04:11:47.529653",
     "status": "completed"
    },
    "tags": []
   },
   "source": [
    "## Creating submission"
   ]
  },
  {
   "cell_type": "code",
   "execution_count": 68,
   "id": "1dd583aa",
   "metadata": {
    "execution": {
     "iopub.execute_input": "2023-11-03T04:11:47.597087Z",
     "iopub.status.busy": "2023-11-03T04:11:47.596737Z",
     "iopub.status.idle": "2023-11-03T04:11:47.603402Z",
     "shell.execute_reply": "2023-11-03T04:11:47.602534Z"
    },
    "papermill": {
     "duration": 0.031844,
     "end_time": "2023-11-03T04:11:47.605410",
     "exception": false,
     "start_time": "2023-11-03T04:11:47.573566",
     "status": "completed"
    },
    "tags": []
   },
   "outputs": [
    {
     "data": {
      "text/plain": [
       "array([0.59757457, 0.21650911, 0.4795065 , ..., 0.41981789, 0.09776613,\n",
       "       0.03565171])"
      ]
     },
     "execution_count": 68,
     "metadata": {},
     "output_type": "execute_result"
    }
   ],
   "source": [
    "pred_probs"
   ]
  },
  {
   "cell_type": "code",
   "execution_count": 69,
   "id": "0a1da48e",
   "metadata": {
    "execution": {
     "iopub.execute_input": "2023-11-03T04:11:47.651162Z",
     "iopub.status.busy": "2023-11-03T04:11:47.650850Z",
     "iopub.status.idle": "2023-11-03T04:11:47.663069Z",
     "shell.execute_reply": "2023-11-03T04:11:47.661786Z"
    },
    "papermill": {
     "duration": 0.037796,
     "end_time": "2023-11-03T04:11:47.665334",
     "exception": false,
     "start_time": "2023-11-03T04:11:47.627538",
     "status": "completed"
    },
    "tags": []
   },
   "outputs": [
    {
     "data": {
      "text/html": [
       "<div>\n",
       "<style scoped>\n",
       "    .dataframe tbody tr th:only-of-type {\n",
       "        vertical-align: middle;\n",
       "    }\n",
       "\n",
       "    .dataframe tbody tr th {\n",
       "        vertical-align: top;\n",
       "    }\n",
       "\n",
       "    .dataframe thead th {\n",
       "        text-align: right;\n",
       "    }\n",
       "</style>\n",
       "<table border=\"1\" class=\"dataframe\">\n",
       "  <thead>\n",
       "    <tr style=\"text-align: right;\">\n",
       "      <th></th>\n",
       "      <th>id</th>\n",
       "      <th>defects</th>\n",
       "    </tr>\n",
       "  </thead>\n",
       "  <tbody>\n",
       "    <tr>\n",
       "      <th>0</th>\n",
       "      <td>159256</td>\n",
       "      <td>0.597575</td>\n",
       "    </tr>\n",
       "    <tr>\n",
       "      <th>1</th>\n",
       "      <td>159257</td>\n",
       "      <td>0.216509</td>\n",
       "    </tr>\n",
       "    <tr>\n",
       "      <th>2</th>\n",
       "      <td>159258</td>\n",
       "      <td>0.479507</td>\n",
       "    </tr>\n",
       "    <tr>\n",
       "      <th>3</th>\n",
       "      <td>159259</td>\n",
       "      <td>0.015210</td>\n",
       "    </tr>\n",
       "    <tr>\n",
       "      <th>4</th>\n",
       "      <td>159260</td>\n",
       "      <td>0.629645</td>\n",
       "    </tr>\n",
       "    <tr>\n",
       "      <th>...</th>\n",
       "      <td>...</td>\n",
       "      <td>...</td>\n",
       "    </tr>\n",
       "    <tr>\n",
       "      <th>106166</th>\n",
       "      <td>265422</td>\n",
       "      <td>0.608143</td>\n",
       "    </tr>\n",
       "    <tr>\n",
       "      <th>106167</th>\n",
       "      <td>265423</td>\n",
       "      <td>0.581177</td>\n",
       "    </tr>\n",
       "    <tr>\n",
       "      <th>106168</th>\n",
       "      <td>265424</td>\n",
       "      <td>0.419818</td>\n",
       "    </tr>\n",
       "    <tr>\n",
       "      <th>106169</th>\n",
       "      <td>265425</td>\n",
       "      <td>0.097766</td>\n",
       "    </tr>\n",
       "    <tr>\n",
       "      <th>106170</th>\n",
       "      <td>265426</td>\n",
       "      <td>0.035652</td>\n",
       "    </tr>\n",
       "  </tbody>\n",
       "</table>\n",
       "<p>106171 rows × 2 columns</p>\n",
       "</div>"
      ],
      "text/plain": [
       "            id   defects\n",
       "0       159256  0.597575\n",
       "1       159257  0.216509\n",
       "2       159258  0.479507\n",
       "3       159259  0.015210\n",
       "4       159260  0.629645\n",
       "...        ...       ...\n",
       "106166  265422  0.608143\n",
       "106167  265423  0.581177\n",
       "106168  265424  0.419818\n",
       "106169  265425  0.097766\n",
       "106170  265426  0.035652\n",
       "\n",
       "[106171 rows x 2 columns]"
      ]
     },
     "execution_count": 69,
     "metadata": {},
     "output_type": "execute_result"
    }
   ],
   "source": [
    "submission_df = pd.DataFrame({\n",
    "    \"id\": test_id,\n",
    "    \"defects\": pred_probs\n",
    "})\n",
    "\n",
    "submission_df"
   ]
  },
  {
   "cell_type": "code",
   "execution_count": 70,
   "id": "15364997",
   "metadata": {
    "execution": {
     "iopub.execute_input": "2023-11-03T04:11:47.710747Z",
     "iopub.status.busy": "2023-11-03T04:11:47.710416Z",
     "iopub.status.idle": "2023-11-03T04:11:47.900950Z",
     "shell.execute_reply": "2023-11-03T04:11:47.900041Z"
    },
    "papermill": {
     "duration": 0.215625,
     "end_time": "2023-11-03T04:11:47.903153",
     "exception": false,
     "start_time": "2023-11-03T04:11:47.687528",
     "status": "completed"
    },
    "tags": []
   },
   "outputs": [],
   "source": [
    "submission_df.to_csv(\"submission.csv\", index=False)"
   ]
  }
 ],
 "metadata": {
  "kernelspec": {
   "display_name": "Python 3",
   "language": "python",
   "name": "python3"
  },
  "language_info": {
   "codemirror_mode": {
    "name": "ipython",
    "version": 3
   },
   "file_extension": ".py",
   "mimetype": "text/x-python",
   "name": "python",
   "nbconvert_exporter": "python",
   "pygments_lexer": "ipython3",
   "version": "3.10.12"
  },
  "papermill": {
   "default_parameters": {},
   "duration": 2061.32833,
   "end_time": "2023-11-03T04:11:50.550793",
   "environment_variables": {},
   "exception": null,
   "input_path": "__notebook__.ipynb",
   "output_path": "__notebook__.ipynb",
   "parameters": {},
   "start_time": "2023-11-03T03:37:29.222463",
   "version": "2.4.0"
  }
 },
 "nbformat": 4,
 "nbformat_minor": 5
}
